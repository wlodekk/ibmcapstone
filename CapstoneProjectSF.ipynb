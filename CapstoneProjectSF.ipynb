{
 "cells": [
  {
   "cell_type": "markdown",
   "metadata": {},
   "source": [
    "## IBM Data Science Professional Certificate Capstone Project"
   ]
  },
  {
   "cell_type": "markdown",
   "metadata": {},
   "source": [
    "March 2021"
   ]
  },
  {
   "cell_type": "markdown",
   "metadata": {},
   "source": [
    "## Table of Contents\n",
    "### [1.Introduction](#1introduction)\n",
    "### [2.Data](#2data)\n",
    "### [3.Demographics analysis of San Francisco census tracts](#3demographicsanalysis) "
   ]
  },
  {
   "cell_type": "markdown",
   "metadata": {},
   "source": [
    "## 1. Introduction  <a name=\"1introduction\"></a>"
   ]
  },
  {
   "cell_type": "markdown",
   "metadata": {},
   "source": [
    "The goal of this project will be to find the best location for a Mexican restaurant in San Francisco, CA. As defined by the Investor this will be a restaurant aimed mainly at 30-49 year old clientele with income above 100k$ per annum. One of the main attractions will be the high quality of the food. At first we assume the the main customers will be the inhabitants of the neighboring areas, with a strong emphasis on clients with Mexican origin. "
   ]
  },
  {
   "cell_type": "markdown",
   "metadata": {},
   "source": [
    "Firstly I will analyse the the demographics of San Francisco to identify the market area with the optimum clientele base inline with the above assumptions. \n",
    "Secondly I will look into the selected area, examine the competition and pinpoint a more precise location.\n"
   ]
  },
  {
   "cell_type": "markdown",
   "metadata": {},
   "source": [
    "## 2. Data <a name=\"2data\"></a>"
   ]
  },
  {
   "cell_type": "markdown",
   "metadata": {},
   "source": [
    "I will use census tracts data obtained from openICPSR for the demographics analysis of the San Francisco - (National Neighborhood Data Archive (NaNDA): Socioeconomic Status and Demographic Characteristics of Census Tracts, United States, 2008-2017). ICPSR is an Inter-university Consortium for Political and Social Research.\n",
    "Machine learning clustering on the relevant census tracts data will be carried out to identify the preferable neighboorhood.\n",
    "The key data used to cluster the tracts will be:\n",
    "* the average number of the population with income above 100k$ per year per square mile,  \n",
    "* the average number of the Hispanic population per square mile- according to Wikipedia the majority of Hispanic population in SanFrancisco are of Mexican origin,\n",
    "* the average number of the 30-49 year old population per square mile,\n",
    "\n",
    "The geojson census tracts file used for the maps was obtained from Metropolitan Transportation Commission (MTC) website, the transportation planning, coordinating and financing agency for the nine-county San Francisco Bay Area.\n",
    "\n",
    "Information about the the competition in the selected area will be obtained with the Foursquare API. Two key factors will analysed using this data:\n",
    "* location of other Mexican restaurants - the restaurant should be located as far as possible from the direct competitors,\n",
    "* location of other restaurants - locating the restaurant next to other restaurants which are not direct competitors could be even beneficial (poossiblity of taking over their clients)."
   ]
  },
  {
   "cell_type": "markdown",
   "metadata": {},
   "source": [
    "## 3. Demographics analysis of San Francisco census tracts. <a name=\"3demographicsanalysis\"></a>"
   ]
  },
  {
   "cell_type": "code",
   "execution_count": 1,
   "metadata": {
    "execution": {
     "iopub.execute_input": "2021-04-01T08:56:46.235523Z",
     "iopub.status.busy": "2021-04-01T08:56:46.235313Z",
     "iopub.status.idle": "2021-04-01T08:56:46.654779Z",
     "shell.execute_reply": "2021-04-01T08:56:46.654071Z",
     "shell.execute_reply.started": "2021-04-01T08:56:46.235471Z"
    }
   },
   "outputs": [],
   "source": [
    "import pandas as pd\n",
    "import numpy as np\n"
   ]
  },
  {
   "cell_type": "markdown",
   "metadata": {},
   "source": [
    "#### Reading information about California census tracts."
   ]
  },
  {
   "cell_type": "code",
   "execution_count": 2,
   "metadata": {
    "execution": {
     "iopub.execute_input": "2021-04-01T08:56:46.656190Z",
     "iopub.status.busy": "2021-04-01T08:56:46.655953Z",
     "iopub.status.idle": "2021-04-01T08:56:46.700572Z",
     "shell.execute_reply": "2021-04-01T08:56:46.699931Z",
     "shell.execute_reply.started": "2021-04-01T08:56:46.656161Z"
    }
   },
   "outputs": [
    {
     "data": {
      "text/html": [
       "<div>\n",
       "<style scoped>\n",
       "    .dataframe tbody tr th:only-of-type {\n",
       "        vertical-align: middle;\n",
       "    }\n",
       "\n",
       "    .dataframe tbody tr th {\n",
       "        vertical-align: top;\n",
       "    }\n",
       "\n",
       "    .dataframe thead th {\n",
       "        text-align: right;\n",
       "    }\n",
       "</style>\n",
       "<table border=\"1\" class=\"dataframe\">\n",
       "  <thead>\n",
       "    <tr style=\"text-align: right;\">\n",
       "      <th></th>\n",
       "      <th>USPS</th>\n",
       "      <th>GEOID</th>\n",
       "      <th>ALAND</th>\n",
       "      <th>AWATER</th>\n",
       "      <th>ALAND_SQMI</th>\n",
       "      <th>AWATER_SQMI</th>\n",
       "      <th>INTPTLAT</th>\n",
       "      <th>INTPTLONG</th>\n",
       "    </tr>\n",
       "  </thead>\n",
       "  <tbody>\n",
       "    <tr>\n",
       "      <th>0</th>\n",
       "      <td>CA</td>\n",
       "      <td>06001400100</td>\n",
       "      <td>6894339</td>\n",
       "      <td>0</td>\n",
       "      <td>2.662</td>\n",
       "      <td>0.000</td>\n",
       "      <td>37.867627</td>\n",
       "      <td>-122.231946</td>\n",
       "    </tr>\n",
       "    <tr>\n",
       "      <th>1</th>\n",
       "      <td>CA</td>\n",
       "      <td>06001400200</td>\n",
       "      <td>586559</td>\n",
       "      <td>0</td>\n",
       "      <td>0.226</td>\n",
       "      <td>0.000</td>\n",
       "      <td>37.848138</td>\n",
       "      <td>-122.249592</td>\n",
       "    </tr>\n",
       "    <tr>\n",
       "      <th>2</th>\n",
       "      <td>CA</td>\n",
       "      <td>06001400300</td>\n",
       "      <td>1105851</td>\n",
       "      <td>0</td>\n",
       "      <td>0.427</td>\n",
       "      <td>0.000</td>\n",
       "      <td>37.840597</td>\n",
       "      <td>-122.254440</td>\n",
       "    </tr>\n",
       "    <tr>\n",
       "      <th>3</th>\n",
       "      <td>CA</td>\n",
       "      <td>06001400400</td>\n",
       "      <td>715630</td>\n",
       "      <td>0</td>\n",
       "      <td>0.276</td>\n",
       "      <td>0.000</td>\n",
       "      <td>37.848281</td>\n",
       "      <td>-122.257448</td>\n",
       "    </tr>\n",
       "    <tr>\n",
       "      <th>4</th>\n",
       "      <td>CA</td>\n",
       "      <td>06001400500</td>\n",
       "      <td>590297</td>\n",
       "      <td>0</td>\n",
       "      <td>0.228</td>\n",
       "      <td>0.000</td>\n",
       "      <td>37.848541</td>\n",
       "      <td>-122.264728</td>\n",
       "    </tr>\n",
       "    <tr>\n",
       "      <th>...</th>\n",
       "      <td>...</td>\n",
       "      <td>...</td>\n",
       "      <td>...</td>\n",
       "      <td>...</td>\n",
       "      <td>...</td>\n",
       "      <td>...</td>\n",
       "      <td>...</td>\n",
       "      <td>...</td>\n",
       "    </tr>\n",
       "    <tr>\n",
       "      <th>8052</th>\n",
       "      <td>CA</td>\n",
       "      <td>06115040800</td>\n",
       "      <td>109401417</td>\n",
       "      <td>128316</td>\n",
       "      <td>42.240</td>\n",
       "      <td>0.050</td>\n",
       "      <td>39.041053</td>\n",
       "      <td>-121.433980</td>\n",
       "    </tr>\n",
       "    <tr>\n",
       "      <th>8053</th>\n",
       "      <td>CA</td>\n",
       "      <td>06115040901</td>\n",
       "      <td>263652570</td>\n",
       "      <td>4473094</td>\n",
       "      <td>101.797</td>\n",
       "      <td>1.727</td>\n",
       "      <td>39.139743</td>\n",
       "      <td>-121.582340</td>\n",
       "    </tr>\n",
       "    <tr>\n",
       "      <th>8054</th>\n",
       "      <td>CA</td>\n",
       "      <td>06115040902</td>\n",
       "      <td>93617079</td>\n",
       "      <td>240059</td>\n",
       "      <td>36.146</td>\n",
       "      <td>0.093</td>\n",
       "      <td>39.119345</td>\n",
       "      <td>-121.399584</td>\n",
       "    </tr>\n",
       "    <tr>\n",
       "      <th>8055</th>\n",
       "      <td>CA</td>\n",
       "      <td>06115041000</td>\n",
       "      <td>468397390</td>\n",
       "      <td>6927408</td>\n",
       "      <td>180.849</td>\n",
       "      <td>2.675</td>\n",
       "      <td>39.266189</td>\n",
       "      <td>-121.445373</td>\n",
       "    </tr>\n",
       "    <tr>\n",
       "      <th>8056</th>\n",
       "      <td>CA</td>\n",
       "      <td>06115041100</td>\n",
       "      <td>559316286</td>\n",
       "      <td>17080393</td>\n",
       "      <td>215.953</td>\n",
       "      <td>6.595</td>\n",
       "      <td>39.452244</td>\n",
       "      <td>-121.182654</td>\n",
       "    </tr>\n",
       "  </tbody>\n",
       "</table>\n",
       "<p>8057 rows × 8 columns</p>\n",
       "</div>"
      ],
      "text/plain": [
       "     USPS        GEOID      ALAND    AWATER  ALAND_SQMI  AWATER_SQMI  \\\n",
       "0      CA  06001400100    6894339         0       2.662        0.000   \n",
       "1      CA  06001400200     586559         0       0.226        0.000   \n",
       "2      CA  06001400300    1105851         0       0.427        0.000   \n",
       "3      CA  06001400400     715630         0       0.276        0.000   \n",
       "4      CA  06001400500     590297         0       0.228        0.000   \n",
       "...   ...          ...        ...       ...         ...          ...   \n",
       "8052   CA  06115040800  109401417    128316      42.240        0.050   \n",
       "8053   CA  06115040901  263652570   4473094     101.797        1.727   \n",
       "8054   CA  06115040902   93617079    240059      36.146        0.093   \n",
       "8055   CA  06115041000  468397390   6927408     180.849        2.675   \n",
       "8056   CA  06115041100  559316286  17080393     215.953        6.595   \n",
       "\n",
       "       INTPTLAT  \\\n",
       "0     37.867627   \n",
       "1     37.848138   \n",
       "2     37.840597   \n",
       "3     37.848281   \n",
       "4     37.848541   \n",
       "...         ...   \n",
       "8052  39.041053   \n",
       "8053  39.139743   \n",
       "8054  39.119345   \n",
       "8055  39.266189   \n",
       "8056  39.452244   \n",
       "\n",
       "      INTPTLONG                                                                                                                               \n",
       "0                                           -122.231946                                                                                       \n",
       "1                                           -122.249592                                                                                       \n",
       "2                                           -122.254440                                                                                       \n",
       "3                                           -122.257448                                                                                       \n",
       "4                                           -122.264728                                                                                       \n",
       "...                                                 ...                                                                                       \n",
       "8052                                        -121.433980                                                                                       \n",
       "8053                                        -121.582340                                                                                       \n",
       "8054                                        -121.399584                                                                                       \n",
       "8055                                        -121.445373                                                                                       \n",
       "8056                                        -121.182654                                                                                       \n",
       "\n",
       "[8057 rows x 8 columns]"
      ]
     },
     "execution_count": 2,
     "metadata": {},
     "output_type": "execute_result"
    }
   ],
   "source": [
    "ca_tracts=pd.read_csv('2019_gaz_tracts_06.txt',delimiter='\\t',dtype={'GEOID': str})\n",
    "ca_tracts"
   ]
  },
  {
   "cell_type": "markdown",
   "metadata": {},
   "source": [
    "#### Subsetting information about California census tracts to San Francisco tracts.\n"
   ]
  },
  {
   "cell_type": "code",
   "execution_count": 3,
   "metadata": {
    "execution": {
     "iopub.execute_input": "2021-04-01T08:56:46.701861Z",
     "iopub.status.busy": "2021-04-01T08:56:46.701658Z",
     "iopub.status.idle": "2021-04-01T08:56:46.724853Z",
     "shell.execute_reply": "2021-04-01T08:56:46.724257Z",
     "shell.execute_reply.started": "2021-04-01T08:56:46.701839Z"
    }
   },
   "outputs": [
    {
     "name": "stderr",
     "output_type": "stream",
     "text": [
      "/home/vladdie/miniconda3/envs/cap/lib/python3.9/site-packages/pandas/core/frame.py:4308: SettingWithCopyWarning: \n",
      "A value is trying to be set on a copy of a slice from a DataFrame\n",
      "\n",
      "See the caveats in the documentation: https://pandas.pydata.org/pandas-docs/stable/user_guide/indexing.html#returning-a-view-versus-a-copy\n",
      "  return super().drop(\n",
      "/home/vladdie/miniconda3/envs/cap/lib/python3.9/site-packages/pandas/core/frame.py:4441: SettingWithCopyWarning: \n",
      "A value is trying to be set on a copy of a slice from a DataFrame\n",
      "\n",
      "See the caveats in the documentation: https://pandas.pydata.org/pandas-docs/stable/user_guide/indexing.html#returning-a-view-versus-a-copy\n",
      "  return super().rename(\n"
     ]
    },
    {
     "data": {
      "text/html": [
       "<div>\n",
       "<style scoped>\n",
       "    .dataframe tbody tr th:only-of-type {\n",
       "        vertical-align: middle;\n",
       "    }\n",
       "\n",
       "    .dataframe tbody tr th {\n",
       "        vertical-align: top;\n",
       "    }\n",
       "\n",
       "    .dataframe thead th {\n",
       "        text-align: right;\n",
       "    }\n",
       "</style>\n",
       "<table border=\"1\" class=\"dataframe\">\n",
       "  <thead>\n",
       "    <tr style=\"text-align: right;\">\n",
       "      <th></th>\n",
       "      <th>GEOID</th>\n",
       "      <th>ALAND</th>\n",
       "      <th>AWATER</th>\n",
       "      <th>ALAND_SQMI</th>\n",
       "      <th>AWATER_SQMI</th>\n",
       "      <th>Lat</th>\n",
       "      <th>Lon</th>\n",
       "    </tr>\n",
       "  </thead>\n",
       "  <tbody>\n",
       "    <tr>\n",
       "      <th>0</th>\n",
       "      <td>06075010100</td>\n",
       "      <td>776490</td>\n",
       "      <td>646917</td>\n",
       "      <td>0.300</td>\n",
       "      <td>0.250</td>\n",
       "      <td>37.808520</td>\n",
       "      <td>-122.409554</td>\n",
       "    </tr>\n",
       "    <tr>\n",
       "      <th>1</th>\n",
       "      <td>06075010200</td>\n",
       "      <td>515957</td>\n",
       "      <td>295388</td>\n",
       "      <td>0.199</td>\n",
       "      <td>0.114</td>\n",
       "      <td>37.805861</td>\n",
       "      <td>-122.422925</td>\n",
       "    </tr>\n",
       "    <tr>\n",
       "      <th>2</th>\n",
       "      <td>06075010300</td>\n",
       "      <td>268266</td>\n",
       "      <td>0</td>\n",
       "      <td>0.104</td>\n",
       "      <td>0.000</td>\n",
       "      <td>37.801620</td>\n",
       "      <td>-122.415681</td>\n",
       "    </tr>\n",
       "    <tr>\n",
       "      <th>3</th>\n",
       "      <td>06075010400</td>\n",
       "      <td>335744</td>\n",
       "      <td>0</td>\n",
       "      <td>0.130</td>\n",
       "      <td>0.000</td>\n",
       "      <td>37.802273</td>\n",
       "      <td>-122.407558</td>\n",
       "    </tr>\n",
       "    <tr>\n",
       "      <th>4</th>\n",
       "      <td>06075010500</td>\n",
       "      <td>683605</td>\n",
       "      <td>494314</td>\n",
       "      <td>0.264</td>\n",
       "      <td>0.191</td>\n",
       "      <td>37.802684</td>\n",
       "      <td>-122.399050</td>\n",
       "    </tr>\n",
       "    <tr>\n",
       "      <th>...</th>\n",
       "      <td>...</td>\n",
       "      <td>...</td>\n",
       "      <td>...</td>\n",
       "      <td>...</td>\n",
       "      <td>...</td>\n",
       "      <td>...</td>\n",
       "      <td>...</td>\n",
       "    </tr>\n",
       "    <tr>\n",
       "      <th>192</th>\n",
       "      <td>06075980401</td>\n",
       "      <td>419323</td>\n",
       "      <td>247501289</td>\n",
       "      <td>0.162</td>\n",
       "      <td>95.561</td>\n",
       "      <td>37.727239</td>\n",
       "      <td>-123.032229</td>\n",
       "    </tr>\n",
       "    <tr>\n",
       "      <th>193</th>\n",
       "      <td>06075980501</td>\n",
       "      <td>1577311</td>\n",
       "      <td>9769</td>\n",
       "      <td>0.609</td>\n",
       "      <td>0.004</td>\n",
       "      <td>37.716208</td>\n",
       "      <td>-122.419346</td>\n",
       "    </tr>\n",
       "    <tr>\n",
       "      <th>194</th>\n",
       "      <td>06075980600</td>\n",
       "      <td>2132298</td>\n",
       "      <td>2016110</td>\n",
       "      <td>0.823</td>\n",
       "      <td>0.778</td>\n",
       "      <td>37.723166</td>\n",
       "      <td>-122.368542</td>\n",
       "    </tr>\n",
       "    <tr>\n",
       "      <th>195</th>\n",
       "      <td>06075980900</td>\n",
       "      <td>3585240</td>\n",
       "      <td>260707</td>\n",
       "      <td>1.384</td>\n",
       "      <td>0.101</td>\n",
       "      <td>37.746286</td>\n",
       "      <td>-122.389477</td>\n",
       "    </tr>\n",
       "    <tr>\n",
       "      <th>196</th>\n",
       "      <td>06075990100</td>\n",
       "      <td>0</td>\n",
       "      <td>70939179</td>\n",
       "      <td>0.000</td>\n",
       "      <td>27.390</td>\n",
       "      <td>37.762160</td>\n",
       "      <td>-122.551862</td>\n",
       "    </tr>\n",
       "  </tbody>\n",
       "</table>\n",
       "<p>197 rows × 7 columns</p>\n",
       "</div>"
      ],
      "text/plain": [
       "           GEOID    ALAND     AWATER  ALAND_SQMI  AWATER_SQMI        Lat  \\\n",
       "0    06075010100   776490     646917       0.300        0.250  37.808520   \n",
       "1    06075010200   515957     295388       0.199        0.114  37.805861   \n",
       "2    06075010300   268266          0       0.104        0.000  37.801620   \n",
       "3    06075010400   335744          0       0.130        0.000  37.802273   \n",
       "4    06075010500   683605     494314       0.264        0.191  37.802684   \n",
       "..           ...      ...        ...         ...          ...        ...   \n",
       "192  06075980401   419323  247501289       0.162       95.561  37.727239   \n",
       "193  06075980501  1577311       9769       0.609        0.004  37.716208   \n",
       "194  06075980600  2132298    2016110       0.823        0.778  37.723166   \n",
       "195  06075980900  3585240     260707       1.384        0.101  37.746286   \n",
       "196  06075990100        0   70939179       0.000       27.390  37.762160   \n",
       "\n",
       "            Lon  \n",
       "0   -122.409554  \n",
       "1   -122.422925  \n",
       "2   -122.415681  \n",
       "3   -122.407558  \n",
       "4   -122.399050  \n",
       "..          ...  \n",
       "192 -123.032229  \n",
       "193 -122.419346  \n",
       "194 -122.368542  \n",
       "195 -122.389477  \n",
       "196 -122.551862  \n",
       "\n",
       "[197 rows x 7 columns]"
      ]
     },
     "execution_count": 3,
     "metadata": {},
     "output_type": "execute_result"
    }
   ],
   "source": [
    "ca_tracts['trint']=ca_tracts['GEOID'].astype(int)\n",
    "sf_tracts=ca_tracts[(ca_tracts['trint']<=6075990100) & (ca_tracts['trint']>=6075010100)]\n",
    "sf_tracts.drop(columns=['trint'],inplace=True)\n",
    "sf_tracts.reset_index(drop=True,inplace=True)\n",
    "\n",
    "sf_tracts.rename(columns={'INTPTLAT':'Lat',\n",
    "                          'INTPTLONG                                                                                                                             ':'Lon'},inplace=True)\n",
    "#sf_tracts['Tract Code']=sf_tracts['Tract Code']-6075000000\n",
    "sf_tracts.drop(columns='USPS',inplace=True)\n",
    "sf_tracts"
   ]
  },
  {
   "cell_type": "markdown",
   "metadata": {},
   "source": [
    "#### Reading information about the demographics of San Francisco census tracts in terms of:\n",
    "#### 1. Persons per square mile, ACS 2013-2017 (popden13_17)\n",
    "#### 3. Proportion of people of Hispanic origin, ACS 2013-2017 (phispanic13_17)\n",
    "#### 3. Proportion of families with income greater than 100K, ACS 2013-2017 (inc_above_100k)\n",
    "#### 4. Proportion of population 30-49 years of age, ACS 2013-2017 (30-39_pop)\n",
    "\n"
   ]
  },
  {
   "cell_type": "code",
   "execution_count": 4,
   "metadata": {
    "execution": {
     "iopub.execute_input": "2021-04-01T08:56:46.726310Z",
     "iopub.status.busy": "2021-04-01T08:56:46.726074Z",
     "iopub.status.idle": "2021-04-01T08:56:47.437110Z",
     "shell.execute_reply": "2021-04-01T08:56:47.436421Z",
     "shell.execute_reply.started": "2021-04-01T08:56:46.726280Z"
    }
   },
   "outputs": [
    {
     "name": "stderr",
     "output_type": "stream",
     "text": [
      "<ipython-input-4-171e034d1311>:10: SettingWithCopyWarning: \n",
      "A value is trying to be set on a copy of a slice from a DataFrame.\n",
      "Try using .loc[row_indexer,col_indexer] = value instead\n",
      "\n",
      "See the caveats in the documentation: https://pandas.pydata.org/pandas-docs/stable/user_guide/indexing.html#returning-a-view-versus-a-copy\n",
      "  demogr_sf_res['30-49_pop']=demogr_sf_res['p30_3913_17']+demogr_sf_res['p40_4913_17']\n",
      "/home/vladdie/miniconda3/envs/cap/lib/python3.9/site-packages/pandas/core/frame.py:4308: SettingWithCopyWarning: \n",
      "A value is trying to be set on a copy of a slice from a DataFrame\n",
      "\n",
      "See the caveats in the documentation: https://pandas.pydata.org/pandas-docs/stable/user_guide/indexing.html#returning-a-view-versus-a-copy\n",
      "  return super().drop(\n",
      "/home/vladdie/miniconda3/envs/cap/lib/python3.9/site-packages/pandas/core/frame.py:4441: SettingWithCopyWarning: \n",
      "A value is trying to be set on a copy of a slice from a DataFrame\n",
      "\n",
      "See the caveats in the documentation: https://pandas.pydata.org/pandas-docs/stable/user_guide/indexing.html#returning-a-view-versus-a-copy\n",
      "  return super().rename(\n"
     ]
    },
    {
     "data": {
      "text/html": [
       "<div>\n",
       "<style scoped>\n",
       "    .dataframe tbody tr th:only-of-type {\n",
       "        vertical-align: middle;\n",
       "    }\n",
       "\n",
       "    .dataframe tbody tr th {\n",
       "        vertical-align: top;\n",
       "    }\n",
       "\n",
       "    .dataframe thead th {\n",
       "        text-align: right;\n",
       "    }\n",
       "</style>\n",
       "<table border=\"1\" class=\"dataframe\">\n",
       "  <thead>\n",
       "    <tr style=\"text-align: right;\">\n",
       "      <th></th>\n",
       "      <th>trctid</th>\n",
       "      <th>popden13_17</th>\n",
       "      <th>phispanic13_17</th>\n",
       "      <th>inc_above_100k</th>\n",
       "      <th>30-49_pop</th>\n",
       "    </tr>\n",
       "  </thead>\n",
       "  <tbody>\n",
       "    <tr>\n",
       "      <th>0</th>\n",
       "      <td>06075010100</td>\n",
       "      <td>13232.0900</td>\n",
       "      <td>0.070078</td>\n",
       "      <td>0.430274</td>\n",
       "      <td>0.394505</td>\n",
       "    </tr>\n",
       "    <tr>\n",
       "      <th>1</th>\n",
       "      <td>06075010200</td>\n",
       "      <td>21917.6300</td>\n",
       "      <td>0.030713</td>\n",
       "      <td>0.705506</td>\n",
       "      <td>0.366262</td>\n",
       "    </tr>\n",
       "    <tr>\n",
       "      <th>2</th>\n",
       "      <td>06075010300</td>\n",
       "      <td>42257.9700</td>\n",
       "      <td>0.092529</td>\n",
       "      <td>0.510823</td>\n",
       "      <td>0.387252</td>\n",
       "    </tr>\n",
       "    <tr>\n",
       "      <th>3</th>\n",
       "      <td>06075010400</td>\n",
       "      <td>35832.9800</td>\n",
       "      <td>0.117330</td>\n",
       "      <td>0.696329</td>\n",
       "      <td>0.435307</td>\n",
       "    </tr>\n",
       "    <tr>\n",
       "      <th>4</th>\n",
       "      <td>06075010500</td>\n",
       "      <td>10194.5400</td>\n",
       "      <td>0.106652</td>\n",
       "      <td>0.635531</td>\n",
       "      <td>0.316983</td>\n",
       "    </tr>\n",
       "    <tr>\n",
       "      <th>...</th>\n",
       "      <td>...</td>\n",
       "      <td>...</td>\n",
       "      <td>...</td>\n",
       "      <td>...</td>\n",
       "      <td>...</td>\n",
       "    </tr>\n",
       "    <tr>\n",
       "      <th>192</th>\n",
       "      <td>06075980401</td>\n",
       "      <td>0.0000</td>\n",
       "      <td>0.000000</td>\n",
       "      <td>0.000000</td>\n",
       "      <td>0.000000</td>\n",
       "    </tr>\n",
       "    <tr>\n",
       "      <th>193</th>\n",
       "      <td>06075980501</td>\n",
       "      <td>1277.7750</td>\n",
       "      <td>0.187980</td>\n",
       "      <td>0.312500</td>\n",
       "      <td>0.148338</td>\n",
       "    </tr>\n",
       "    <tr>\n",
       "      <th>194</th>\n",
       "      <td>06075980600</td>\n",
       "      <td>623.1144</td>\n",
       "      <td>0.173489</td>\n",
       "      <td>0.406250</td>\n",
       "      <td>0.249513</td>\n",
       "    </tr>\n",
       "    <tr>\n",
       "      <th>195</th>\n",
       "      <td>06075980900</td>\n",
       "      <td>174.7661</td>\n",
       "      <td>0.239669</td>\n",
       "      <td>0.625000</td>\n",
       "      <td>0.632231</td>\n",
       "    </tr>\n",
       "    <tr>\n",
       "      <th>196</th>\n",
       "      <td>06075990100</td>\n",
       "      <td>0.0000</td>\n",
       "      <td>0.000000</td>\n",
       "      <td>0.000000</td>\n",
       "      <td>0.000000</td>\n",
       "    </tr>\n",
       "  </tbody>\n",
       "</table>\n",
       "<p>197 rows × 5 columns</p>\n",
       "</div>"
      ],
      "text/plain": [
       "          trctid  popden13_17  phispanic13_17  inc_above_100k  30-49_pop\n",
       "0    06075010100   13232.0900        0.070078        0.430274   0.394505\n",
       "1    06075010200   21917.6300        0.030713        0.705506   0.366262\n",
       "2    06075010300   42257.9700        0.092529        0.510823   0.387252\n",
       "3    06075010400   35832.9800        0.117330        0.696329   0.435307\n",
       "4    06075010500   10194.5400        0.106652        0.635531   0.316983\n",
       "..           ...          ...             ...             ...        ...\n",
       "192  06075980401       0.0000        0.000000        0.000000   0.000000\n",
       "193  06075980501    1277.7750        0.187980        0.312500   0.148338\n",
       "194  06075980600     623.1144        0.173489        0.406250   0.249513\n",
       "195  06075980900     174.7661        0.239669        0.625000   0.632231\n",
       "196  06075990100       0.0000        0.000000        0.000000   0.000000\n",
       "\n",
       "[197 rows x 5 columns]"
      ]
     },
     "execution_count": 4,
     "metadata": {},
     "output_type": "execute_result"
    }
   ],
   "source": [
    "pd.set_option('display.max_rows', 10)\n",
    "demogr=pd.read_csv('nanda_ses_tract_2008-2017_04P.csv',dtype={'tract_fips10':str})\n",
    "demogr['trint']=demogr['tract_fips10'].astype(int)\n",
    "demogr_sf=demogr[(demogr['trint']<=6075990100) & (demogr['trint']>=6075010100)]\n",
    "demogr.drop(columns=['trint'],inplace=True)\n",
    "demogr_sf.reset_index(drop=True,inplace=True)\n",
    "demogr_sf=demogr_sf.fillna(0)\n",
    "demogr_sf.columns\n",
    "demogr_sf_res=demogr_sf[['tract_fips10','popden13_17','phispanic13_17','pin5b_13_17','p30_3913_17','p40_4913_17']]\n",
    "demogr_sf_res['30-49_pop']=demogr_sf_res['p30_3913_17']+demogr_sf_res['p40_4913_17']\n",
    "demogr_sf_res.drop(columns=['p30_3913_17','p40_4913_17'],inplace=True)\n",
    "demogr_sf_res.rename(columns={'pin5b_13_17':'inc_above_100k'},inplace=True)\n",
    "demogr_sf_res.rename(columns={'tract_fips10':'trctid'},inplace=True)\n",
    "demogr_sf_res"
   ]
  },
  {
   "cell_type": "code",
   "execution_count": 5,
   "metadata": {
    "execution": {
     "iopub.execute_input": "2021-04-01T08:56:47.438339Z",
     "iopub.status.busy": "2021-04-01T08:56:47.438165Z",
     "iopub.status.idle": "2021-04-01T08:56:47.458939Z",
     "shell.execute_reply": "2021-04-01T08:56:47.458299Z",
     "shell.execute_reply.started": "2021-04-01T08:56:47.438321Z"
    }
   },
   "outputs": [
    {
     "data": {
      "text/html": [
       "<div>\n",
       "<style scoped>\n",
       "    .dataframe tbody tr th:only-of-type {\n",
       "        vertical-align: middle;\n",
       "    }\n",
       "\n",
       "    .dataframe tbody tr th {\n",
       "        vertical-align: top;\n",
       "    }\n",
       "\n",
       "    .dataframe thead th {\n",
       "        text-align: right;\n",
       "    }\n",
       "</style>\n",
       "<table border=\"1\" class=\"dataframe\">\n",
       "  <thead>\n",
       "    <tr style=\"text-align: right;\">\n",
       "      <th></th>\n",
       "      <th>popden13_17</th>\n",
       "      <th>phispanic13_17</th>\n",
       "      <th>inc_above_100k</th>\n",
       "      <th>30-49_pop</th>\n",
       "    </tr>\n",
       "  </thead>\n",
       "  <tbody>\n",
       "    <tr>\n",
       "      <th>count</th>\n",
       "      <td>197.000000</td>\n",
       "      <td>197.000000</td>\n",
       "      <td>197.000000</td>\n",
       "      <td>197.000000</td>\n",
       "    </tr>\n",
       "    <tr>\n",
       "      <th>mean</th>\n",
       "      <td>30705.343058</td>\n",
       "      <td>0.150408</td>\n",
       "      <td>0.539242</td>\n",
       "      <td>0.339857</td>\n",
       "    </tr>\n",
       "    <tr>\n",
       "      <th>std</th>\n",
       "      <td>22463.860966</td>\n",
       "      <td>0.118301</td>\n",
       "      <td>0.220854</td>\n",
       "      <td>0.089740</td>\n",
       "    </tr>\n",
       "    <tr>\n",
       "      <th>min</th>\n",
       "      <td>0.000000</td>\n",
       "      <td>0.000000</td>\n",
       "      <td>0.000000</td>\n",
       "      <td>0.000000</td>\n",
       "    </tr>\n",
       "    <tr>\n",
       "      <th>25%</th>\n",
       "      <td>19862.460000</td>\n",
       "      <td>0.065402</td>\n",
       "      <td>0.381136</td>\n",
       "      <td>0.279339</td>\n",
       "    </tr>\n",
       "    <tr>\n",
       "      <th>50%</th>\n",
       "      <td>26842.250000</td>\n",
       "      <td>0.111238</td>\n",
       "      <td>0.567935</td>\n",
       "      <td>0.335698</td>\n",
       "    </tr>\n",
       "    <tr>\n",
       "      <th>75%</th>\n",
       "      <td>36030.870000</td>\n",
       "      <td>0.191804</td>\n",
       "      <td>0.705506</td>\n",
       "      <td>0.405110</td>\n",
       "    </tr>\n",
       "    <tr>\n",
       "      <th>max</th>\n",
       "      <td>156680.800000</td>\n",
       "      <td>0.617953</td>\n",
       "      <td>0.947226</td>\n",
       "      <td>0.632231</td>\n",
       "    </tr>\n",
       "  </tbody>\n",
       "</table>\n",
       "</div>"
      ],
      "text/plain": [
       "         popden13_17  phispanic13_17  inc_above_100k   30-49_pop\n",
       "count     197.000000      197.000000      197.000000  197.000000\n",
       "mean    30705.343058        0.150408        0.539242    0.339857\n",
       "std     22463.860966        0.118301        0.220854    0.089740\n",
       "min         0.000000        0.000000        0.000000    0.000000\n",
       "25%     19862.460000        0.065402        0.381136    0.279339\n",
       "50%     26842.250000        0.111238        0.567935    0.335698\n",
       "75%     36030.870000        0.191804        0.705506    0.405110\n",
       "max    156680.800000        0.617953        0.947226    0.632231"
      ]
     },
     "execution_count": 5,
     "metadata": {},
     "output_type": "execute_result"
    }
   ],
   "source": [
    "demogr_sf_res.describe()"
   ]
  },
  {
   "cell_type": "code",
   "execution_count": 6,
   "metadata": {
    "execution": {
     "iopub.execute_input": "2021-04-01T08:56:47.459921Z",
     "iopub.status.busy": "2021-04-01T08:56:47.459738Z",
     "iopub.status.idle": "2021-04-01T08:56:47.465544Z",
     "shell.execute_reply": "2021-04-01T08:56:47.464943Z",
     "shell.execute_reply.started": "2021-04-01T08:56:47.459903Z"
    }
   },
   "outputs": [
    {
     "data": {
      "text/plain": [
       "trctid             object\n",
       "popden13_17       float64\n",
       "phispanic13_17    float64\n",
       "inc_above_100k    float64\n",
       "30-49_pop         float64\n",
       "dtype: object"
      ]
     },
     "execution_count": 6,
     "metadata": {},
     "output_type": "execute_result"
    }
   ],
   "source": [
    "demogr_sf_res.dtypes"
   ]
  },
  {
   "cell_type": "markdown",
   "metadata": {},
   "source": [
    "#### Calculating the the average number of persons of Hispanic origin, with income above 100k$ and aged 30-49 per square mile for each census tract."
   ]
  },
  {
   "cell_type": "code",
   "execution_count": 34,
   "metadata": {
    "execution": {
     "iopub.execute_input": "2021-04-01T09:29:24.347354Z",
     "iopub.status.busy": "2021-04-01T09:29:24.347117Z",
     "iopub.status.idle": "2021-04-01T09:29:24.362004Z",
     "shell.execute_reply": "2021-04-01T09:29:24.361190Z",
     "shell.execute_reply.started": "2021-04-01T09:29:24.347328Z"
    }
   },
   "outputs": [
    {
     "data": {
      "text/html": [
       "<div>\n",
       "<style scoped>\n",
       "    .dataframe tbody tr th:only-of-type {\n",
       "        vertical-align: middle;\n",
       "    }\n",
       "\n",
       "    .dataframe tbody tr th {\n",
       "        vertical-align: top;\n",
       "    }\n",
       "\n",
       "    .dataframe thead th {\n",
       "        text-align: right;\n",
       "    }\n",
       "</style>\n",
       "<table border=\"1\" class=\"dataframe\">\n",
       "  <thead>\n",
       "    <tr style=\"text-align: right;\">\n",
       "      <th></th>\n",
       "      <th>trctid</th>\n",
       "      <th>avg_hisp</th>\n",
       "      <th>avg_inc_above_100k</th>\n",
       "      <th>avg_30-49_pop</th>\n",
       "    </tr>\n",
       "  </thead>\n",
       "  <tbody>\n",
       "    <tr>\n",
       "      <th>0</th>\n",
       "      <td>06075010100</td>\n",
       "      <td>927.280282</td>\n",
       "      <td>5693.425998</td>\n",
       "      <td>5220.121250</td>\n",
       "    </tr>\n",
       "    <tr>\n",
       "      <th>1</th>\n",
       "      <td>06075010200</td>\n",
       "      <td>673.152074</td>\n",
       "      <td>15463.014831</td>\n",
       "      <td>8027.589366</td>\n",
       "    </tr>\n",
       "    <tr>\n",
       "      <th>2</th>\n",
       "      <td>06075010300</td>\n",
       "      <td>3910.093326</td>\n",
       "      <td>21586.323342</td>\n",
       "      <td>16364.464002</td>\n",
       "    </tr>\n",
       "    <tr>\n",
       "      <th>3</th>\n",
       "      <td>06075010400</td>\n",
       "      <td>4204.300087</td>\n",
       "      <td>24951.551587</td>\n",
       "      <td>15598.339407</td>\n",
       "    </tr>\n",
       "    <tr>\n",
       "      <th>4</th>\n",
       "      <td>06075010500</td>\n",
       "      <td>1087.266095</td>\n",
       "      <td>6478.947501</td>\n",
       "      <td>3231.491081</td>\n",
       "    </tr>\n",
       "    <tr>\n",
       "      <th>...</th>\n",
       "      <td>...</td>\n",
       "      <td>...</td>\n",
       "      <td>...</td>\n",
       "      <td>...</td>\n",
       "    </tr>\n",
       "    <tr>\n",
       "      <th>192</th>\n",
       "      <td>06075980401</td>\n",
       "      <td>0.000000</td>\n",
       "      <td>0.000000</td>\n",
       "      <td>0.000000</td>\n",
       "    </tr>\n",
       "    <tr>\n",
       "      <th>193</th>\n",
       "      <td>06075980501</td>\n",
       "      <td>240.195549</td>\n",
       "      <td>399.304688</td>\n",
       "      <td>189.542075</td>\n",
       "    </tr>\n",
       "    <tr>\n",
       "      <th>194</th>\n",
       "      <td>06075980600</td>\n",
       "      <td>108.103664</td>\n",
       "      <td>253.140225</td>\n",
       "      <td>155.474939</td>\n",
       "    </tr>\n",
       "    <tr>\n",
       "      <th>195</th>\n",
       "      <td>06075980900</td>\n",
       "      <td>41.886091</td>\n",
       "      <td>109.228813</td>\n",
       "      <td>110.492619</td>\n",
       "    </tr>\n",
       "    <tr>\n",
       "      <th>196</th>\n",
       "      <td>06075990100</td>\n",
       "      <td>0.000000</td>\n",
       "      <td>0.000000</td>\n",
       "      <td>0.000000</td>\n",
       "    </tr>\n",
       "  </tbody>\n",
       "</table>\n",
       "<p>197 rows × 4 columns</p>\n",
       "</div>"
      ],
      "text/plain": [
       "          trctid     avg_hisp  avg_inc_above_100k  avg_30-49_pop\n",
       "0    06075010100   927.280282         5693.425998    5220.121250\n",
       "1    06075010200   673.152074        15463.014831    8027.589366\n",
       "2    06075010300  3910.093326        21586.323342   16364.464002\n",
       "3    06075010400  4204.300087        24951.551587   15598.339407\n",
       "4    06075010500  1087.266095         6478.947501    3231.491081\n",
       "..           ...          ...                 ...            ...\n",
       "192  06075980401     0.000000            0.000000       0.000000\n",
       "193  06075980501   240.195549          399.304688     189.542075\n",
       "194  06075980600   108.103664          253.140225     155.474939\n",
       "195  06075980900    41.886091          109.228813     110.492619\n",
       "196  06075990100     0.000000            0.000000       0.000000\n",
       "\n",
       "[197 rows x 4 columns]"
      ]
     },
     "execution_count": 34,
     "metadata": {},
     "output_type": "execute_result"
    }
   ],
   "source": [
    "demogr_sf_res_avg=pd.DataFrame()\n",
    "demogr_sf_res_avg['trctid']=demogr_sf_res['trctid']\n",
    "demogr_sf_res_avg['avg_hisp']=demogr_sf_res['popden13_17']*demogr_sf_res['phispanic13_17']\n",
    "demogr_sf_res_avg['avg_inc_above_100k']=demogr_sf_res['popden13_17']*demogr_sf_res['inc_above_100k']\n",
    "demogr_sf_res_avg['avg_30-49_pop']=demogr_sf_res['popden13_17']*demogr_sf_res['30-49_pop']\n",
    "demogr_sf_res_avg"
   ]
  },
  {
   "cell_type": "markdown",
   "metadata": {},
   "source": [
    "#### In the next step we will cluster the census tracts using Kmeans algorithm considering the above data in order to find the optimal market area for the restaurant."
   ]
  },
  {
   "cell_type": "code",
   "execution_count": 35,
   "metadata": {
    "execution": {
     "iopub.execute_input": "2021-04-01T09:29:28.289001Z",
     "iopub.status.busy": "2021-04-01T09:29:28.288398Z",
     "iopub.status.idle": "2021-04-01T09:29:28.293501Z",
     "shell.execute_reply": "2021-04-01T09:29:28.292868Z",
     "shell.execute_reply.started": "2021-04-01T09:29:28.288934Z"
    }
   },
   "outputs": [],
   "source": [
    "train_data=demogr_sf_res_avg.iloc[:,1:]"
   ]
  },
  {
   "cell_type": "code",
   "execution_count": 9,
   "metadata": {
    "execution": {
     "iopub.execute_input": "2021-04-01T08:56:47.487578Z",
     "iopub.status.busy": "2021-04-01T08:56:47.487383Z",
     "iopub.status.idle": "2021-04-01T08:56:47.497440Z",
     "shell.execute_reply": "2021-04-01T08:56:47.496958Z",
     "shell.execute_reply.started": "2021-04-01T08:56:47.487559Z"
    }
   },
   "outputs": [
    {
     "data": {
      "text/html": [
       "<div>\n",
       "<style scoped>\n",
       "    .dataframe tbody tr th:only-of-type {\n",
       "        vertical-align: middle;\n",
       "    }\n",
       "\n",
       "    .dataframe tbody tr th {\n",
       "        vertical-align: top;\n",
       "    }\n",
       "\n",
       "    .dataframe thead th {\n",
       "        text-align: right;\n",
       "    }\n",
       "</style>\n",
       "<table border=\"1\" class=\"dataframe\">\n",
       "  <thead>\n",
       "    <tr style=\"text-align: right;\">\n",
       "      <th></th>\n",
       "      <th>avg_hisp</th>\n",
       "      <th>avg_inc_above_100k</th>\n",
       "      <th>avg_30-49_pop</th>\n",
       "    </tr>\n",
       "  </thead>\n",
       "  <tbody>\n",
       "    <tr>\n",
       "      <th>0</th>\n",
       "      <td>927.280282</td>\n",
       "      <td>5693.425998</td>\n",
       "      <td>5220.121250</td>\n",
       "    </tr>\n",
       "    <tr>\n",
       "      <th>1</th>\n",
       "      <td>673.152074</td>\n",
       "      <td>15463.014831</td>\n",
       "      <td>8027.589366</td>\n",
       "    </tr>\n",
       "    <tr>\n",
       "      <th>2</th>\n",
       "      <td>3910.093326</td>\n",
       "      <td>21586.323342</td>\n",
       "      <td>16364.464002</td>\n",
       "    </tr>\n",
       "    <tr>\n",
       "      <th>3</th>\n",
       "      <td>4204.300087</td>\n",
       "      <td>24951.551587</td>\n",
       "      <td>15598.339407</td>\n",
       "    </tr>\n",
       "    <tr>\n",
       "      <th>4</th>\n",
       "      <td>1087.266095</td>\n",
       "      <td>6478.947501</td>\n",
       "      <td>3231.491081</td>\n",
       "    </tr>\n",
       "    <tr>\n",
       "      <th>...</th>\n",
       "      <td>...</td>\n",
       "      <td>...</td>\n",
       "      <td>...</td>\n",
       "    </tr>\n",
       "    <tr>\n",
       "      <th>192</th>\n",
       "      <td>0.000000</td>\n",
       "      <td>0.000000</td>\n",
       "      <td>0.000000</td>\n",
       "    </tr>\n",
       "    <tr>\n",
       "      <th>193</th>\n",
       "      <td>240.195549</td>\n",
       "      <td>399.304688</td>\n",
       "      <td>189.542075</td>\n",
       "    </tr>\n",
       "    <tr>\n",
       "      <th>194</th>\n",
       "      <td>108.103664</td>\n",
       "      <td>253.140225</td>\n",
       "      <td>155.474939</td>\n",
       "    </tr>\n",
       "    <tr>\n",
       "      <th>195</th>\n",
       "      <td>41.886091</td>\n",
       "      <td>109.228813</td>\n",
       "      <td>110.492619</td>\n",
       "    </tr>\n",
       "    <tr>\n",
       "      <th>196</th>\n",
       "      <td>0.000000</td>\n",
       "      <td>0.000000</td>\n",
       "      <td>0.000000</td>\n",
       "    </tr>\n",
       "  </tbody>\n",
       "</table>\n",
       "<p>197 rows × 3 columns</p>\n",
       "</div>"
      ],
      "text/plain": [
       "        avg_hisp  avg_inc_above_100k  avg_30-49_pop\n",
       "0     927.280282         5693.425998    5220.121250\n",
       "1     673.152074        15463.014831    8027.589366\n",
       "2    3910.093326        21586.323342   16364.464002\n",
       "3    4204.300087        24951.551587   15598.339407\n",
       "4    1087.266095         6478.947501    3231.491081\n",
       "..           ...                 ...            ...\n",
       "192     0.000000            0.000000       0.000000\n",
       "193   240.195549          399.304688     189.542075\n",
       "194   108.103664          253.140225     155.474939\n",
       "195    41.886091          109.228813     110.492619\n",
       "196     0.000000            0.000000       0.000000\n",
       "\n",
       "[197 rows x 3 columns]"
      ]
     },
     "execution_count": 9,
     "metadata": {},
     "output_type": "execute_result"
    }
   ],
   "source": [
    "train_data"
   ]
  },
  {
   "cell_type": "code",
   "execution_count": 36,
   "metadata": {
    "execution": {
     "iopub.execute_input": "2021-04-01T09:29:30.409479Z",
     "iopub.status.busy": "2021-04-01T09:29:30.409063Z",
     "iopub.status.idle": "2021-04-01T09:29:30.456026Z",
     "shell.execute_reply": "2021-04-01T09:29:30.455344Z",
     "shell.execute_reply.started": "2021-04-01T09:29:30.409431Z"
    }
   },
   "outputs": [
    {
     "data": {
      "text/plain": [
       "array([0, 5, 1, 1, 0, 5, 5, 1, 1, 1], dtype=int32)"
      ]
     },
     "execution_count": 36,
     "metadata": {},
     "output_type": "execute_result"
    }
   ],
   "source": [
    "from sklearn.compose import  ColumnTransformer\n",
    "from sklearn.preprocessing import MinMaxScaler\n",
    "ct=ColumnTransformer([('scaler',MinMaxScaler(),['avg_hisp','avg_inc_above_100k','avg_30-49_pop'])])\n",
    "scaled_td=ct.fit_transform(train_data)\n",
    "from sklearn.cluster import KMeans\n",
    "kms=KMeans(n_clusters=6,random_state=5).fit(scaled_td)\n",
    "labels=kms.labels_\n",
    "labels[0:10]"
   ]
  },
  {
   "cell_type": "markdown",
   "metadata": {},
   "source": [
    "We will evaluate what is the optimal number of clusters using the yellowbrick silhuette visualizer."
   ]
  },
  {
   "cell_type": "code",
   "execution_count": 13,
   "metadata": {
    "execution": {
     "iopub.execute_input": "2021-04-01T08:59:28.458482Z",
     "iopub.status.busy": "2021-04-01T08:59:28.458122Z",
     "iopub.status.idle": "2021-04-01T08:59:29.499760Z",
     "shell.execute_reply": "2021-04-01T08:59:29.499134Z",
     "shell.execute_reply.started": "2021-04-01T08:59:28.458441Z"
    }
   },
   "outputs": [
    {
     "data": {
      "image/png": "[encoded data removed]",
      "text/plain": [
       "<Figure size 576x396 with 1 Axes>"
      ]
     },
     "metadata": {},
     "output_type": "display_data"
    },
    {
     "data": {
      "image/png": "[encoded data removed]",
      "text/plain": [
       "<Figure size 576x396 with 1 Axes>"
      ]
     },
     "metadata": {},
     "output_type": "display_data"
    },
    {
     "data": {
      "image/png": "[encoded data removed]",
      "text/plain": [
       "<Figure size 576x396 with 1 Axes>"
      ]
     },
     "metadata": {},
     "output_type": "display_data"
    },
    {
     "data": {
      "image/png": "[encoded data removed]",
      "text/plain": [
       "<Figure size 576x396 with 1 Axes>"
      ]
     },
     "metadata": {},
     "output_type": "display_data"
    },
    {
     "data": {
      "image/png": "[encoded data removed]",
      "text/plain": [
       "<Figure size 576x396 with 1 Axes>"
      ]
     },
     "metadata": {},
     "output_type": "display_data"
    },
    {
     "data": {
      "image/png": "[encoded data removed]",
      "text/plain": [
       "<Figure size 576x396 with 1 Axes>"
      ]
     },
     "metadata": {},
     "output_type": "display_data"
    }
   ],
   "source": [
    "from yellowbrick.cluster import SilhouetteVisualizer\n",
    "\n",
    "for k in range(2,8):\n",
    "    kms=KMeans(n_clusters=k,random_state=5)\n",
    "    visualizer = SilhouetteVisualizer(kms, colors='yellowbrick')\n",
    "    visualizer.fit(scaled_td)\n",
    "    visualizer.show()"
   ]
  },
  {
   "cell_type": "markdown",
   "metadata": {
    "execution": {
     "iopub.execute_input": "2021-03-30T14:23:19.658751Z",
     "iopub.status.busy": "2021-03-30T14:23:19.658137Z",
     "iopub.status.idle": "2021-03-30T14:23:19.672221Z",
     "shell.execute_reply": "2021-03-30T14:23:19.669679Z",
     "shell.execute_reply.started": "2021-03-30T14:23:19.658684Z"
    }
   },
   "source": [
    "#### As we can see the highest silhuette score average score achieved the 2 cluster option but it is unlikely we can find a cluster that would fit our requirements in this case.\n",
    "#### Let us evaluate options with 4, 6 and 7 clusters which look promising as they have relatively high average silhouette coefficient score, with a relatively low number of wrongly assigned samples to clusters (negative silhuouette coefficient scores) and large enough number of clusters to fulfill our requirements in terms of demographics."
   ]
  },
  {
   "cell_type": "code",
   "execution_count": 37,
   "metadata": {
    "execution": {
     "iopub.execute_input": "2021-04-01T09:29:36.311713Z",
     "iopub.status.busy": "2021-04-01T09:29:36.311446Z",
     "iopub.status.idle": "2021-04-01T09:29:36.328652Z",
     "shell.execute_reply": "2021-04-01T09:29:36.327846Z",
     "shell.execute_reply.started": "2021-04-01T09:29:36.311684Z"
    }
   },
   "outputs": [
    {
     "data": {
      "text/html": [
       "<div>\n",
       "<style scoped>\n",
       "    .dataframe tbody tr th:only-of-type {\n",
       "        vertical-align: middle;\n",
       "    }\n",
       "\n",
       "    .dataframe tbody tr th {\n",
       "        vertical-align: top;\n",
       "    }\n",
       "\n",
       "    .dataframe thead th {\n",
       "        text-align: right;\n",
       "    }\n",
       "</style>\n",
       "<table border=\"1\" class=\"dataframe\">\n",
       "  <thead>\n",
       "    <tr style=\"text-align: right;\">\n",
       "      <th></th>\n",
       "      <th>trctid</th>\n",
       "      <th>avg_hisp</th>\n",
       "      <th>avg_inc_above_100k</th>\n",
       "      <th>avg_30-49_pop</th>\n",
       "      <th>clusters6</th>\n",
       "    </tr>\n",
       "  </thead>\n",
       "  <tbody>\n",
       "    <tr>\n",
       "      <th>0</th>\n",
       "      <td>06075010100</td>\n",
       "      <td>927.280282</td>\n",
       "      <td>5693.425998</td>\n",
       "      <td>5220.121250</td>\n",
       "      <td>0</td>\n",
       "    </tr>\n",
       "    <tr>\n",
       "      <th>1</th>\n",
       "      <td>06075010200</td>\n",
       "      <td>673.152074</td>\n",
       "      <td>15463.014831</td>\n",
       "      <td>8027.589366</td>\n",
       "      <td>5</td>\n",
       "    </tr>\n",
       "    <tr>\n",
       "      <th>2</th>\n",
       "      <td>06075010300</td>\n",
       "      <td>3910.093326</td>\n",
       "      <td>21586.323342</td>\n",
       "      <td>16364.464002</td>\n",
       "      <td>1</td>\n",
       "    </tr>\n",
       "    <tr>\n",
       "      <th>3</th>\n",
       "      <td>06075010400</td>\n",
       "      <td>4204.300087</td>\n",
       "      <td>24951.551587</td>\n",
       "      <td>15598.339407</td>\n",
       "      <td>1</td>\n",
       "    </tr>\n",
       "    <tr>\n",
       "      <th>4</th>\n",
       "      <td>06075010500</td>\n",
       "      <td>1087.266095</td>\n",
       "      <td>6478.947501</td>\n",
       "      <td>3231.491081</td>\n",
       "      <td>0</td>\n",
       "    </tr>\n",
       "    <tr>\n",
       "      <th>...</th>\n",
       "      <td>...</td>\n",
       "      <td>...</td>\n",
       "      <td>...</td>\n",
       "      <td>...</td>\n",
       "      <td>...</td>\n",
       "    </tr>\n",
       "    <tr>\n",
       "      <th>192</th>\n",
       "      <td>06075980401</td>\n",
       "      <td>0.000000</td>\n",
       "      <td>0.000000</td>\n",
       "      <td>0.000000</td>\n",
       "      <td>0</td>\n",
       "    </tr>\n",
       "    <tr>\n",
       "      <th>193</th>\n",
       "      <td>06075980501</td>\n",
       "      <td>240.195549</td>\n",
       "      <td>399.304688</td>\n",
       "      <td>189.542075</td>\n",
       "      <td>0</td>\n",
       "    </tr>\n",
       "    <tr>\n",
       "      <th>194</th>\n",
       "      <td>06075980600</td>\n",
       "      <td>108.103664</td>\n",
       "      <td>253.140225</td>\n",
       "      <td>155.474939</td>\n",
       "      <td>0</td>\n",
       "    </tr>\n",
       "    <tr>\n",
       "      <th>195</th>\n",
       "      <td>06075980900</td>\n",
       "      <td>41.886091</td>\n",
       "      <td>109.228813</td>\n",
       "      <td>110.492619</td>\n",
       "      <td>0</td>\n",
       "    </tr>\n",
       "    <tr>\n",
       "      <th>196</th>\n",
       "      <td>06075990100</td>\n",
       "      <td>0.000000</td>\n",
       "      <td>0.000000</td>\n",
       "      <td>0.000000</td>\n",
       "      <td>0</td>\n",
       "    </tr>\n",
       "  </tbody>\n",
       "</table>\n",
       "<p>197 rows × 5 columns</p>\n",
       "</div>"
      ],
      "text/plain": [
       "          trctid     avg_hisp  avg_inc_above_100k  avg_30-49_pop  clusters6\n",
       "0    06075010100   927.280282         5693.425998    5220.121250          0\n",
       "1    06075010200   673.152074        15463.014831    8027.589366          5\n",
       "2    06075010300  3910.093326        21586.323342   16364.464002          1\n",
       "3    06075010400  4204.300087        24951.551587   15598.339407          1\n",
       "4    06075010500  1087.266095         6478.947501    3231.491081          0\n",
       "..           ...          ...                 ...            ...        ...\n",
       "192  06075980401     0.000000            0.000000       0.000000          0\n",
       "193  06075980501   240.195549          399.304688     189.542075          0\n",
       "194  06075980600   108.103664          253.140225     155.474939          0\n",
       "195  06075980900    41.886091          109.228813     110.492619          0\n",
       "196  06075990100     0.000000            0.000000       0.000000          0\n",
       "\n",
       "[197 rows x 5 columns]"
      ]
     },
     "execution_count": 37,
     "metadata": {},
     "output_type": "execute_result"
    }
   ],
   "source": [
    "demogr_sf_res_avg['clusters6']=labels\n",
    "demogr_sf_res_avg"
   ]
  },
  {
   "cell_type": "code",
   "execution_count": 15,
   "metadata": {
    "execution": {
     "iopub.execute_input": "2021-04-01T08:59:50.695713Z",
     "iopub.status.busy": "2021-04-01T08:59:50.695525Z",
     "iopub.status.idle": "2021-04-01T08:59:50.762003Z",
     "shell.execute_reply": "2021-04-01T08:59:50.761396Z",
     "shell.execute_reply.started": "2021-04-01T08:59:50.695692Z"
    }
   },
   "outputs": [
    {
     "data": {
      "text/html": [
       "<div>\n",
       "<style scoped>\n",
       "    .dataframe tbody tr th:only-of-type {\n",
       "        vertical-align: middle;\n",
       "    }\n",
       "\n",
       "    .dataframe tbody tr th {\n",
       "        vertical-align: top;\n",
       "    }\n",
       "\n",
       "    .dataframe thead th {\n",
       "        text-align: right;\n",
       "    }\n",
       "</style>\n",
       "<table border=\"1\" class=\"dataframe\">\n",
       "  <thead>\n",
       "    <tr style=\"text-align: right;\">\n",
       "      <th></th>\n",
       "      <th>avg_hisp</th>\n",
       "      <th>avg_inc_above_100k</th>\n",
       "      <th>avg_30-49_pop</th>\n",
       "      <th>clusters</th>\n",
       "    </tr>\n",
       "  </thead>\n",
       "  <tbody>\n",
       "    <tr>\n",
       "      <th>count</th>\n",
       "      <td>197.000000</td>\n",
       "      <td>197.000000</td>\n",
       "      <td>197.000000</td>\n",
       "      <td>197.000000</td>\n",
       "    </tr>\n",
       "    <tr>\n",
       "      <th>mean</th>\n",
       "      <td>4944.686772</td>\n",
       "      <td>15457.786199</td>\n",
       "      <td>10577.024629</td>\n",
       "      <td>2.502538</td>\n",
       "    </tr>\n",
       "    <tr>\n",
       "      <th>std</th>\n",
       "      <td>6420.243833</td>\n",
       "      <td>10152.912164</td>\n",
       "      <td>8075.466483</td>\n",
       "      <td>2.172707</td>\n",
       "    </tr>\n",
       "    <tr>\n",
       "      <th>min</th>\n",
       "      <td>0.000000</td>\n",
       "      <td>0.000000</td>\n",
       "      <td>0.000000</td>\n",
       "      <td>0.000000</td>\n",
       "    </tr>\n",
       "    <tr>\n",
       "      <th>25%</th>\n",
       "      <td>1450.268496</td>\n",
       "      <td>9008.583807</td>\n",
       "      <td>5873.239622</td>\n",
       "      <td>0.000000</td>\n",
       "    </tr>\n",
       "    <tr>\n",
       "      <th>50%</th>\n",
       "      <td>2914.469614</td>\n",
       "      <td>13853.137914</td>\n",
       "      <td>9203.147634</td>\n",
       "      <td>3.000000</td>\n",
       "    </tr>\n",
       "    <tr>\n",
       "      <th>75%</th>\n",
       "      <td>5439.174669</td>\n",
       "      <td>20435.035732</td>\n",
       "      <td>13164.907394</td>\n",
       "      <td>5.000000</td>\n",
       "    </tr>\n",
       "    <tr>\n",
       "      <th>max</th>\n",
       "      <td>39646.417008</td>\n",
       "      <td>67092.308299</td>\n",
       "      <td>57851.690639</td>\n",
       "      <td>5.000000</td>\n",
       "    </tr>\n",
       "  </tbody>\n",
       "</table>\n",
       "</div>"
      ],
      "text/plain": [
       "           avg_hisp  avg_inc_above_100k  avg_30-49_pop    clusters\n",
       "count    197.000000          197.000000     197.000000  197.000000\n",
       "mean    4944.686772        15457.786199   10577.024629    2.502538\n",
       "std     6420.243833        10152.912164    8075.466483    2.172707\n",
       "min        0.000000            0.000000       0.000000    0.000000\n",
       "25%     1450.268496         9008.583807    5873.239622    0.000000\n",
       "50%     2914.469614        13853.137914    9203.147634    3.000000\n",
       "75%     5439.174669        20435.035732   13164.907394    5.000000\n",
       "max    39646.417008        67092.308299   57851.690639    5.000000"
      ]
     },
     "execution_count": 15,
     "metadata": {},
     "output_type": "execute_result"
    }
   ],
   "source": [
    "demogr_sf_res_avg.describe()"
   ]
  },
  {
   "cell_type": "code",
   "execution_count": 38,
   "metadata": {
    "execution": {
     "iopub.execute_input": "2021-04-01T09:29:41.237338Z",
     "iopub.status.busy": "2021-04-01T09:29:41.237034Z",
     "iopub.status.idle": "2021-04-01T09:29:41.268843Z",
     "shell.execute_reply": "2021-04-01T09:29:41.268388Z",
     "shell.execute_reply.started": "2021-04-01T09:29:41.237304Z"
    }
   },
   "outputs": [],
   "source": [
    "kms4=KMeans(n_clusters=4,random_state=5).fit(scaled_td)\n",
    "labels4=kms4.labels_\n",
    "\n",
    "demogr_sf_res_avg['clusters4']=labels4\n"
   ]
  },
  {
   "cell_type": "code",
   "execution_count": 47,
   "metadata": {
    "execution": {
     "iopub.execute_input": "2021-04-01T09:33:09.896177Z",
     "iopub.status.busy": "2021-04-01T09:33:09.895917Z",
     "iopub.status.idle": "2021-04-01T09:33:09.932796Z",
     "shell.execute_reply": "2021-04-01T09:33:09.932253Z",
     "shell.execute_reply.started": "2021-04-01T09:33:09.896148Z"
    }
   },
   "outputs": [],
   "source": [
    "kms5=KMeans(n_clusters=5,random_state=5).fit(scaled_td)\n",
    "labels5=kms5.labels_\n",
    "\n",
    "demogr_sf_res_avg['clusters5']=labels5"
   ]
  },
  {
   "cell_type": "code",
   "execution_count": 50,
   "metadata": {
    "execution": {
     "iopub.execute_input": "2021-04-01T09:34:45.566226Z",
     "iopub.status.busy": "2021-04-01T09:34:45.565546Z",
     "iopub.status.idle": "2021-04-01T09:34:45.602431Z",
     "shell.execute_reply": "2021-04-01T09:34:45.601887Z",
     "shell.execute_reply.started": "2021-04-01T09:34:45.566155Z"
    }
   },
   "outputs": [],
   "source": [
    "kms7=KMeans(n_clusters=7,random_state=5).fit(scaled_td)\n",
    "labels7=kms7.labels_\n",
    "\n",
    "demogr_sf_res_avg['clusters7']=labels7\n"
   ]
  },
  {
   "cell_type": "code",
   "execution_count": 21,
   "metadata": {
    "execution": {
     "iopub.execute_input": "2021-04-01T09:04:42.000442Z",
     "iopub.status.busy": "2021-04-01T09:04:42.000278Z",
     "iopub.status.idle": "2021-04-01T09:04:42.014152Z",
     "shell.execute_reply": "2021-04-01T09:04:42.013338Z",
     "shell.execute_reply.started": "2021-04-01T09:04:42.000423Z"
    }
   },
   "outputs": [
    {
     "data": {
      "text/html": [
       "<style  type=\"text/css\" >\n",
       "#T_f2048_row0_col0{\n",
       "            background-color:  #e3efe3;\n",
       "            color:  #000000;\n",
       "        }#T_f2048_row0_col1{\n",
       "            background-color:  #68b368;\n",
       "            color:  #000000;\n",
       "        }#T_f2048_row0_col2{\n",
       "            background-color:  #b1d7b1;\n",
       "            color:  #000000;\n",
       "        }#T_f2048_row1_col0{\n",
       "            background-color:  #80bf80;\n",
       "            color:  #000000;\n",
       "        }#T_f2048_row1_col1{\n",
       "            background-color:  #c1dfc1;\n",
       "            color:  #000000;\n",
       "        }#T_f2048_row1_col2{\n",
       "            background-color:  #b0d6b0;\n",
       "            color:  #000000;\n",
       "        }#T_f2048_row2_col0,#T_f2048_row2_col1,#T_f2048_row2_col2{\n",
       "            background-color:  #008000;\n",
       "            color:  #f1f1f1;\n",
       "        }#T_f2048_row3_col0,#T_f2048_row3_col1,#T_f2048_row3_col2{\n",
       "            background-color:  #ebf3eb;\n",
       "            color:  #000000;\n",
       "        }</style><table id=\"T_f2048_\" ><thead>    <tr>        <th class=\"blank level0\" ></th>        <th class=\"col_heading level0 col0\" >avg_hisp</th>        <th class=\"col_heading level0 col1\" >avg_inc_above_100k</th>        <th class=\"col_heading level0 col2\" >avg_30-49_pop</th>    </tr>    <tr>        <th class=\"index_name level0\" >clusters4</th>        <th class=\"blank\" ></th>        <th class=\"blank\" ></th>        <th class=\"blank\" ></th>    </tr></thead><tbody>\n",
       "                <tr>\n",
       "                        <th id=\"T_f2048_level0_row0\" class=\"row_heading level0 row0\" >0</th>\n",
       "                        <td id=\"T_f2048_row0_col0\" class=\"data row0 col0\" >3259.279785</td>\n",
       "                        <td id=\"T_f2048_row0_col1\" class=\"data row0 col1\" >23805.715579</td>\n",
       "                        <td id=\"T_f2048_row0_col2\" class=\"data row0 col2\" >13669.172613</td>\n",
       "            </tr>\n",
       "            <tr>\n",
       "                        <th id=\"T_f2048_level0_row1\" class=\"row_heading level0 row1\" >1</th>\n",
       "                        <td id=\"T_f2048_row1_col0\" class=\"data row1 col0\" >13367.219643</td>\n",
       "                        <td id=\"T_f2048_row1_col1\" class=\"data row1 col1\" >13753.471802</td>\n",
       "                        <td id=\"T_f2048_row1_col2\" class=\"data row1 col2\" >13786.097394</td>\n",
       "            </tr>\n",
       "            <tr>\n",
       "                        <th id=\"T_f2048_level0_row2\" class=\"row_heading level0 row2\" >2</th>\n",
       "                        <td id=\"T_f2048_row2_col0\" class=\"data row2 col0\" >26468.671631</td>\n",
       "                        <td id=\"T_f2048_row2_col1\" class=\"data row2 col1\" >35608.711446</td>\n",
       "                        <td id=\"T_f2048_row2_col2\" class=\"data row2 col2\" >37312.973654</td>\n",
       "            </tr>\n",
       "            <tr>\n",
       "                        <th id=\"T_f2048_level0_row3\" class=\"row_heading level0 row3\" >3</th>\n",
       "                        <td id=\"T_f2048_row3_col0\" class=\"data row3 col0\" >2414.842774</td>\n",
       "                        <td id=\"T_f2048_row3_col1\" class=\"data row3 col1\" >9023.711188</td>\n",
       "                        <td id=\"T_f2048_row3_col2\" class=\"data row3 col2\" >5816.301720</td>\n",
       "            </tr>\n",
       "    </tbody></table>"
      ],
      "text/plain": [
       "<pandas.io.formats.style.Styler at 0x7f13016843d0>"
      ]
     },
     "execution_count": 21,
     "metadata": {},
     "output_type": "execute_result"
    }
   ],
   "source": [
    "demogr_sf_res_avg.groupby('clusters4').mean().iloc[:,:-2].style.background_gradient(cmap=cm)"
   ]
  },
  {
   "cell_type": "code",
   "execution_count": 48,
   "metadata": {
    "execution": {
     "iopub.execute_input": "2021-04-01T09:33:14.367332Z",
     "iopub.status.busy": "2021-04-01T09:33:14.366863Z",
     "iopub.status.idle": "2021-04-01T09:33:14.392055Z",
     "shell.execute_reply": "2021-04-01T09:33:14.391404Z",
     "shell.execute_reply.started": "2021-04-01T09:33:14.367278Z"
    }
   },
   "outputs": [
    {
     "data": {
      "text/html": [
       "<style  type=\"text/css\" >\n",
       "#T_5f204_row0_col0{\n",
       "            background-color:  #cfe5cf;\n",
       "            color:  #000000;\n",
       "        }#T_5f204_row0_col1,#T_5f204_row3_col0,#T_5f204_row3_col2{\n",
       "            background-color:  #008000;\n",
       "            color:  #f1f1f1;\n",
       "        }#T_5f204_row0_col2{\n",
       "            background-color:  #81bf81;\n",
       "            color:  #000000;\n",
       "        }#T_5f204_row1_col0,#T_5f204_row1_col1,#T_5f204_row1_col2{\n",
       "            background-color:  #ebf3eb;\n",
       "            color:  #000000;\n",
       "        }#T_5f204_row2_col0{\n",
       "            background-color:  #e7f1e7;\n",
       "            color:  #000000;\n",
       "        }#T_5f204_row2_col1{\n",
       "            background-color:  #8ac48a;\n",
       "            color:  #000000;\n",
       "        }#T_5f204_row2_col2{\n",
       "            background-color:  #c3e0c3;\n",
       "            color:  #000000;\n",
       "        }#T_5f204_row3_col1{\n",
       "            background-color:  #51a851;\n",
       "            color:  #000000;\n",
       "        }#T_5f204_row4_col0{\n",
       "            background-color:  #9acb9a;\n",
       "            color:  #000000;\n",
       "        }#T_5f204_row4_col1{\n",
       "            background-color:  #b6d9b6;\n",
       "            color:  #000000;\n",
       "        }#T_5f204_row4_col2{\n",
       "            background-color:  #b4d8b4;\n",
       "            color:  #000000;\n",
       "        }</style><table id=\"T_5f204_\" ><thead>    <tr>        <th class=\"blank level0\" ></th>        <th class=\"col_heading level0 col0\" >avg_hisp</th>        <th class=\"col_heading level0 col1\" >avg_inc_above_100k</th>        <th class=\"col_heading level0 col2\" >avg_30-49_pop</th>    </tr>    <tr>        <th class=\"index_name level0\" >clusters5</th>        <th class=\"blank\" ></th>        <th class=\"blank\" ></th>        <th class=\"blank\" ></th>    </tr></thead><tbody>\n",
       "                <tr>\n",
       "                        <th id=\"T_5f204_level0_row0\" class=\"row_heading level0 row0\" >0</th>\n",
       "                        <td id=\"T_5f204_row0_col0\" class=\"data row0 col0\" >6078.701810</td>\n",
       "                        <td id=\"T_5f204_row0_col1\" class=\"data row0 col1\" >34534.000610</td>\n",
       "                        <td id=\"T_5f204_row0_col2\" class=\"data row0 col2\" >21073.726591</td>\n",
       "            </tr>\n",
       "            <tr>\n",
       "                        <th id=\"T_5f204_level0_row1\" class=\"row_heading level0 row1\" >1</th>\n",
       "                        <td id=\"T_5f204_row1_col0\" class=\"data row1 col0\" >2286.674484</td>\n",
       "                        <td id=\"T_5f204_row1_col1\" class=\"data row1 col1\" >7073.561940</td>\n",
       "                        <td id=\"T_5f204_row1_col2\" class=\"data row1 col2\" >4507.464124</td>\n",
       "            </tr>\n",
       "            <tr>\n",
       "                        <th id=\"T_5f204_level0_row2\" class=\"row_heading level0 row2\" >2</th>\n",
       "                        <td id=\"T_5f204_row2_col0\" class=\"data row2 col0\" >2807.274276</td>\n",
       "                        <td id=\"T_5f204_row2_col1\" class=\"data row2 col1\" >18384.065273</td>\n",
       "                        <td id=\"T_5f204_row2_col2\" class=\"data row2 col2\" >10829.134052</td>\n",
       "            </tr>\n",
       "            <tr>\n",
       "                        <th id=\"T_5f204_level0_row3\" class=\"row_heading level0 row3\" >3</th>\n",
       "                        <td id=\"T_5f204_row3_col0\" class=\"data row3 col0\" >34314.647883</td>\n",
       "                        <td id=\"T_5f204_row3_col1\" class=\"data row3 col1\" >25064.500605</td>\n",
       "                        <td id=\"T_5f204_row3_col2\" class=\"data row3 col2\" >41358.848581</td>\n",
       "            </tr>\n",
       "            <tr>\n",
       "                        <th id=\"T_5f204_level0_row4\" class=\"row_heading level0 row4\" >4</th>\n",
       "                        <td id=\"T_5f204_row4_col0\" class=\"data row4 col0\" >13414.447004</td>\n",
       "                        <td id=\"T_5f204_row4_col1\" class=\"data row4 col1\" >13290.858474</td>\n",
       "                        <td id=\"T_5f204_row4_col2\" class=\"data row4 col2\" >13117.906892</td>\n",
       "            </tr>\n",
       "    </tbody></table>"
      ],
      "text/plain": [
       "<pandas.io.formats.style.Styler at 0x7f12f0951d90>"
      ]
     },
     "execution_count": 48,
     "metadata": {},
     "output_type": "execute_result"
    }
   ],
   "source": [
    "import seaborn as sns\n",
    "cm=sns.light_palette('green',as_cmap=True)\n",
    "demogr_sf_res_avg.groupby('clusters5').mean().iloc[:,:-3].style.background_gradient(cmap=cm)"
   ]
  },
  {
   "cell_type": "code",
   "execution_count": 42,
   "metadata": {
    "execution": {
     "iopub.execute_input": "2021-04-01T09:31:03.727233Z",
     "iopub.status.busy": "2021-04-01T09:31:03.727032Z",
     "iopub.status.idle": "2021-04-01T09:31:03.743731Z",
     "shell.execute_reply": "2021-04-01T09:31:03.743287Z",
     "shell.execute_reply.started": "2021-04-01T09:31:03.727202Z"
    }
   },
   "outputs": [
    {
     "data": {
      "text/html": [
       "<style  type=\"text/css\" >\n",
       "#T_974de_row0_col0,#T_974de_row0_col1,#T_974de_row0_col2{\n",
       "            background-color:  #ebf3eb;\n",
       "            color:  #000000;\n",
       "        }#T_974de_row1_col0{\n",
       "            background-color:  #e1eee1;\n",
       "            color:  #000000;\n",
       "        }#T_974de_row1_col1{\n",
       "            background-color:  #5dae5d;\n",
       "            color:  #000000;\n",
       "        }#T_974de_row1_col2{\n",
       "            background-color:  #a3d0a3;\n",
       "            color:  #000000;\n",
       "        }#T_974de_row2_col0,#T_974de_row2_col2,#T_974de_row4_col1{\n",
       "            background-color:  #008000;\n",
       "            color:  #f1f1f1;\n",
       "        }#T_974de_row2_col1{\n",
       "            background-color:  #6db66d;\n",
       "            color:  #000000;\n",
       "        }#T_974de_row3_col0{\n",
       "            background-color:  #98ca98;\n",
       "            color:  #000000;\n",
       "        }#T_974de_row3_col1{\n",
       "            background-color:  #bcdcbc;\n",
       "            color:  #000000;\n",
       "        }#T_974de_row3_col2{\n",
       "            background-color:  #b2d7b2;\n",
       "            color:  #000000;\n",
       "        }#T_974de_row4_col0{\n",
       "            background-color:  #afd6af;\n",
       "            color:  #000000;\n",
       "        }#T_974de_row4_col2{\n",
       "            background-color:  #53a953;\n",
       "            color:  #000000;\n",
       "        }#T_974de_row5_col0{\n",
       "            background-color:  #e5f0e5;\n",
       "            color:  #000000;\n",
       "        }#T_974de_row5_col1{\n",
       "            background-color:  #a8d2a8;\n",
       "            color:  #000000;\n",
       "        }#T_974de_row5_col2{\n",
       "            background-color:  #c9e2c8;\n",
       "            color:  #000000;\n",
       "        }</style><table id=\"T_974de_\" ><thead>    <tr>        <th class=\"blank level0\" ></th>        <th class=\"col_heading level0 col0\" >avg_hisp</th>        <th class=\"col_heading level0 col1\" >avg_inc_above_100k</th>        <th class=\"col_heading level0 col2\" >avg_30-49_pop</th>    </tr>    <tr>        <th class=\"index_name level0\" >clusters6</th>        <th class=\"blank\" ></th>        <th class=\"blank\" ></th>        <th class=\"blank\" ></th>    </tr></thead><tbody>\n",
       "                <tr>\n",
       "                        <th id=\"T_974de_level0_row0\" class=\"row_heading level0 row0\" >0</th>\n",
       "                        <td id=\"T_974de_row0_col0\" class=\"data row0 col0\" >2075.500682</td>\n",
       "                        <td id=\"T_974de_row0_col1\" class=\"data row0 col1\" >6086.089479</td>\n",
       "                        <td id=\"T_974de_row0_col2\" class=\"data row0 col2\" >4114.649104</td>\n",
       "            </tr>\n",
       "            <tr>\n",
       "                        <th id=\"T_974de_level0_row1\" class=\"row_heading level0 row1\" >1</th>\n",
       "                        <td id=\"T_974de_row1_col0\" class=\"data row1 col0\" >3338.637667</td>\n",
       "                        <td id=\"T_974de_row1_col1\" class=\"data row1 col1\" >27540.552630</td>\n",
       "                        <td id=\"T_974de_row1_col2\" class=\"data row1 col2\" >15580.194059</td>\n",
       "            </tr>\n",
       "            <tr>\n",
       "                        <th id=\"T_974de_level0_row2\" class=\"row_heading level0 row2\" >2</th>\n",
       "                        <td id=\"T_974de_row2_col0\" class=\"data row2 col0\" >34314.647883</td>\n",
       "                        <td id=\"T_974de_row2_col1\" class=\"data row2 col1\" >25064.500605</td>\n",
       "                        <td id=\"T_974de_row2_col2\" class=\"data row2 col2\" >41358.848581</td>\n",
       "            </tr>\n",
       "            <tr>\n",
       "                        <th id=\"T_974de_level0_row3\" class=\"row_heading level0 row3\" >3</th>\n",
       "                        <td id=\"T_974de_row3_col0\" class=\"data row3 col0\" >13414.447004</td>\n",
       "                        <td id=\"T_974de_row3_col1\" class=\"data row3 col1\" >13290.858474</td>\n",
       "                        <td id=\"T_974de_row3_col2\" class=\"data row3 col2\" >13117.906892</td>\n",
       "            </tr>\n",
       "            <tr>\n",
       "                        <th id=\"T_974de_level0_row4\" class=\"row_heading level0 row4\" >4</th>\n",
       "                        <td id=\"T_974de_row4_col0\" class=\"data row4 col0\" >10299.084483</td>\n",
       "                        <td id=\"T_974de_row4_col1\" class=\"data row4 col1\" >41619.434897</td>\n",
       "                        <td id=\"T_974de_row4_col2\" class=\"data row4 col2\" >28195.208875</td>\n",
       "            </tr>\n",
       "            <tr>\n",
       "                        <th id=\"T_974de_level0_row5\" class=\"row_heading level0 row5\" >5</th>\n",
       "                        <td id=\"T_974de_row5_col0\" class=\"data row5 col0\" >2914.126313</td>\n",
       "                        <td id=\"T_974de_row5_col1\" class=\"data row5 col1\" >16112.678800</td>\n",
       "                        <td id=\"T_974de_row5_col2\" class=\"data row5 col2\" >9499.796156</td>\n",
       "            </tr>\n",
       "    </tbody></table>"
      ],
      "text/plain": [
       "<pandas.io.formats.style.Styler at 0x7f12f0b9f8e0>"
      ]
     },
     "execution_count": 42,
     "metadata": {},
     "output_type": "execute_result"
    }
   ],
   "source": [
    "import seaborn as sns\n",
    "cm=sns.light_palette('green',as_cmap=True)\n",
    "demogr_sf_res_avg.groupby('clusters6').mean().iloc[:,:-3].style.background_gradient(cmap=cm)"
   ]
  },
  {
   "cell_type": "code",
   "execution_count": 52,
   "metadata": {
    "execution": {
     "iopub.execute_input": "2021-04-01T09:34:58.330937Z",
     "iopub.status.busy": "2021-04-01T09:34:58.330704Z",
     "iopub.status.idle": "2021-04-01T09:34:58.347099Z",
     "shell.execute_reply": "2021-04-01T09:34:58.346390Z",
     "shell.execute_reply.started": "2021-04-01T09:34:58.330911Z"
    }
   },
   "outputs": [
    {
     "data": {
      "text/html": [
       "<style  type=\"text/css\" >\n",
       "#T_2e439_row0_col0{\n",
       "            background-color:  #e3efe3;\n",
       "            color:  #000000;\n",
       "        }#T_2e439_row0_col1{\n",
       "            background-color:  #afd6af;\n",
       "            color:  #000000;\n",
       "        }#T_2e439_row0_col2{\n",
       "            background-color:  #c9e3c9;\n",
       "            color:  #000000;\n",
       "        }#T_2e439_row1_col0{\n",
       "            background-color:  #d7e9d7;\n",
       "            color:  #000000;\n",
       "        }#T_2e439_row1_col1,#T_2e439_row6_col1{\n",
       "            background-color:  #77ba77;\n",
       "            color:  #000000;\n",
       "        }#T_2e439_row1_col2{\n",
       "            background-color:  #a6d1a6;\n",
       "            color:  #000000;\n",
       "        }#T_2e439_row2_col0{\n",
       "            background-color:  #78bb78;\n",
       "            color:  #000000;\n",
       "        }#T_2e439_row2_col1{\n",
       "            background-color:  #b8dab8;\n",
       "            color:  #000000;\n",
       "        }#T_2e439_row2_col2{\n",
       "            background-color:  #a7d2a7;\n",
       "            color:  #000000;\n",
       "        }#T_2e439_row3_col0{\n",
       "            background-color:  #c5e0c5;\n",
       "            color:  #000000;\n",
       "        }#T_2e439_row3_col1,#T_2e439_row3_col2{\n",
       "            background-color:  #d2e7d2;\n",
       "            color:  #000000;\n",
       "        }#T_2e439_row4_col0{\n",
       "            background-color:  #a4d0a4;\n",
       "            color:  #000000;\n",
       "        }#T_2e439_row4_col1,#T_2e439_row6_col0,#T_2e439_row6_col2{\n",
       "            background-color:  #008000;\n",
       "            color:  #f1f1f1;\n",
       "        }#T_2e439_row4_col2{\n",
       "            background-color:  #5cad5c;\n",
       "            color:  #000000;\n",
       "        }#T_2e439_row5_col0,#T_2e439_row5_col1,#T_2e439_row5_col2{\n",
       "            background-color:  #ebf3eb;\n",
       "            color:  #000000;\n",
       "        }</style><table id=\"T_2e439_\" ><thead>    <tr>        <th class=\"blank level0\" ></th>        <th class=\"col_heading level0 col0\" >avg_hisp</th>        <th class=\"col_heading level0 col1\" >avg_inc_above_100k</th>        <th class=\"col_heading level0 col2\" >avg_30-49_pop</th>    </tr>    <tr>        <th class=\"index_name level0\" >clusters7</th>        <th class=\"blank\" ></th>        <th class=\"blank\" ></th>        <th class=\"blank\" ></th>    </tr></thead><tbody>\n",
       "                <tr>\n",
       "                        <th id=\"T_2e439_level0_row0\" class=\"row_heading level0 row0\" >0</th>\n",
       "                        <td id=\"T_2e439_row0_col0\" class=\"data row0 col0\" >2330.871411</td>\n",
       "                        <td id=\"T_2e439_row0_col1\" class=\"data row0 col1\" >16812.167790</td>\n",
       "                        <td id=\"T_2e439_row0_col2\" class=\"data row0 col2\" >9586.706066</td>\n",
       "            </tr>\n",
       "            <tr>\n",
       "                        <th id=\"T_2e439_level0_row1\" class=\"row_heading level0 row1\" >1</th>\n",
       "                        <td id=\"T_2e439_row1_col0\" class=\"data row1 col0\" >4102.918957</td>\n",
       "                        <td id=\"T_2e439_row1_col1\" class=\"data row1 col1\" >27338.502653</td>\n",
       "                        <td id=\"T_2e439_row1_col2\" class=\"data row1 col2\" >16333.033161</td>\n",
       "            </tr>\n",
       "            <tr>\n",
       "                        <th id=\"T_2e439_level0_row2\" class=\"row_heading level0 row2\" >2</th>\n",
       "                        <td id=\"T_2e439_row2_col0\" class=\"data row2 col0\" >17459.715456</td>\n",
       "                        <td id=\"T_2e439_row2_col1\" class=\"data row2 col1\" >14998.777023</td>\n",
       "                        <td id=\"T_2e439_row2_col2\" class=\"data row2 col2\" >15974.136810</td>\n",
       "            </tr>\n",
       "            <tr>\n",
       "                        <th id=\"T_2e439_level0_row3\" class=\"row_heading level0 row3\" >3</th>\n",
       "                        <td id=\"T_2e439_row3_col0\" class=\"data row3 col0\" >6632.344361</td>\n",
       "                        <td id=\"T_2e439_row3_col1\" class=\"data row3 col1\" >10210.948842</td>\n",
       "                        <td id=\"T_2e439_row3_col2\" class=\"data row3 col2\" >8080.932459</td>\n",
       "            </tr>\n",
       "            <tr>\n",
       "                        <th id=\"T_2e439_level0_row4\" class=\"row_heading level0 row4\" >4</th>\n",
       "                        <td id=\"T_2e439_row4_col0\" class=\"data row4 col0\" >11193.239330</td>\n",
       "                        <td id=\"T_2e439_row4_col1\" class=\"data row4 col1\" >49863.780457</td>\n",
       "                        <td id=\"T_2e439_row4_col2\" class=\"data row4 col2\" >29792.675621</td>\n",
       "            </tr>\n",
       "            <tr>\n",
       "                        <th id=\"T_2e439_level0_row5\" class=\"row_heading level0 row5\" >5</th>\n",
       "                        <td id=\"T_2e439_row5_col0\" class=\"data row5 col0\" >1274.249585</td>\n",
       "                        <td id=\"T_2e439_row5_col1\" class=\"data row5 col1\" >5405.837411</td>\n",
       "                        <td id=\"T_2e439_row5_col2\" class=\"data row5 col2\" >3461.443498</td>\n",
       "            </tr>\n",
       "            <tr>\n",
       "                        <th id=\"T_2e439_level0_row6\" class=\"row_heading level0 row6\" >6</th>\n",
       "                        <td id=\"T_2e439_row6_col0\" class=\"data row6 col0\" >34235.765618</td>\n",
       "                        <td id=\"T_2e439_row6_col1\" class=\"data row6 col1\" >27448.860841</td>\n",
       "                        <td id=\"T_2e439_row6_col2\" class=\"data row6 col2\" >46844.931528</td>\n",
       "            </tr>\n",
       "    </tbody></table>"
      ],
      "text/plain": [
       "<pandas.io.formats.style.Styler at 0x7f12f0561e80>"
      ]
     },
     "execution_count": 52,
     "metadata": {},
     "output_type": "execute_result"
    }
   ],
   "source": [
    "demogr_sf_res_avg.groupby('clusters7').mean().iloc[:,:-3].style.background_gradient(cmap=cm)"
   ]
  },
  {
   "cell_type": "markdown",
   "metadata": {},
   "source": [
    "#### In case of the 6 clusters option cluster nr 4 is most preferable as it has the largest number inhabitants of Hispanic origin, with income above 100k and average 20-49 population per square mile."
   ]
  },
  {
   "cell_type": "markdown",
   "metadata": {
    "execution": {
     "iopub.execute_input": "2021-03-30T14:37:38.070237Z",
     "iopub.status.busy": "2021-03-30T14:37:38.069661Z",
     "iopub.status.idle": "2021-03-30T14:37:38.077165Z",
     "shell.execute_reply": "2021-03-30T14:37:38.074790Z",
     "shell.execute_reply.started": "2021-03-30T14:37:38.070173Z"
    }
   },
   "source": [
    "#### In case of the 4 clusters option cluster nr 3 is most preferable."
   ]
  },
  {
   "cell_type": "markdown",
   "metadata": {},
   "source": [
    "#### In case of the 7 clusters option cluster nr 3 is most preferable."
   ]
  },
  {
   "cell_type": "code",
   "execution_count": 23,
   "metadata": {
    "execution": {
     "iopub.execute_input": "2021-04-01T09:04:42.030325Z",
     "iopub.status.busy": "2021-04-01T09:04:42.029983Z",
     "iopub.status.idle": "2021-04-01T09:04:42.040879Z",
     "shell.execute_reply": "2021-04-01T09:04:42.040347Z",
     "shell.execute_reply.started": "2021-04-01T09:04:42.030297Z"
    }
   },
   "outputs": [
    {
     "data": {
      "text/html": [
       "<div>\n",
       "<style scoped>\n",
       "    .dataframe tbody tr th:only-of-type {\n",
       "        vertical-align: middle;\n",
       "    }\n",
       "\n",
       "    .dataframe tbody tr th {\n",
       "        vertical-align: top;\n",
       "    }\n",
       "\n",
       "    .dataframe thead th {\n",
       "        text-align: right;\n",
       "    }\n",
       "</style>\n",
       "<table border=\"1\" class=\"dataframe\">\n",
       "  <thead>\n",
       "    <tr style=\"text-align: right;\">\n",
       "      <th></th>\n",
       "      <th>avg_hisp</th>\n",
       "      <th>avg_inc_above_100k</th>\n",
       "      <th>avg_30-49_pop</th>\n",
       "      <th>clusters_nr</th>\n",
       "    </tr>\n",
       "  </thead>\n",
       "  <tbody>\n",
       "    <tr>\n",
       "      <th>0</th>\n",
       "      <td>2414.842774</td>\n",
       "      <td>9023.711188</td>\n",
       "      <td>5816.30172</td>\n",
       "      <td>4</td>\n",
       "    </tr>\n",
       "  </tbody>\n",
       "</table>\n",
       "</div>"
      ],
      "text/plain": [
       "      avg_hisp  avg_inc_above_100k  avg_30-49_pop  clusters_nr\n",
       "0  2414.842774         9023.711188     5816.30172            4"
      ]
     },
     "execution_count": 23,
     "metadata": {},
     "output_type": "execute_result"
    }
   ],
   "source": [
    "clust_comp=demogr_sf_res_avg.groupby('clusters4').mean().iloc[[3],:3].reset_index(drop=True)\n",
    "clust_comp['clusters_nr']=4\n",
    "clust_comp"
   ]
  },
  {
   "cell_type": "code",
   "execution_count": null,
   "metadata": {},
   "outputs": [],
   "source": [
    "clust_comp=demogr_sf_res_avg.groupby('clusters5').mean().iloc[[3],:3].reset_index(drop=True)\n",
    "clust_comp['clusters_nr']=4\n",
    "clust_comp"
   ]
  },
  {
   "cell_type": "code",
   "execution_count": 24,
   "metadata": {
    "execution": {
     "iopub.execute_input": "2021-04-01T09:04:42.041638Z",
     "iopub.status.busy": "2021-04-01T09:04:42.041500Z",
     "iopub.status.idle": "2021-04-01T09:04:42.059439Z",
     "shell.execute_reply": "2021-04-01T09:04:42.058785Z",
     "shell.execute_reply.started": "2021-04-01T09:04:42.041621Z"
    }
   },
   "outputs": [
    {
     "data": {
      "text/html": [
       "<div>\n",
       "<style scoped>\n",
       "    .dataframe tbody tr th:only-of-type {\n",
       "        vertical-align: middle;\n",
       "    }\n",
       "\n",
       "    .dataframe tbody tr th {\n",
       "        vertical-align: top;\n",
       "    }\n",
       "\n",
       "    .dataframe thead th {\n",
       "        text-align: right;\n",
       "    }\n",
       "</style>\n",
       "<table border=\"1\" class=\"dataframe\">\n",
       "  <thead>\n",
       "    <tr style=\"text-align: right;\">\n",
       "      <th></th>\n",
       "      <th>avg_hisp</th>\n",
       "      <th>avg_inc_above_100k</th>\n",
       "      <th>avg_30-49_pop</th>\n",
       "      <th>clusters_nr</th>\n",
       "    </tr>\n",
       "  </thead>\n",
       "  <tbody>\n",
       "    <tr>\n",
       "      <th>0</th>\n",
       "      <td>2414.842774</td>\n",
       "      <td>9023.711188</td>\n",
       "      <td>5816.301720</td>\n",
       "      <td>4.0</td>\n",
       "    </tr>\n",
       "    <tr>\n",
       "      <th>1</th>\n",
       "      <td>10299.084483</td>\n",
       "      <td>41619.434897</td>\n",
       "      <td>28195.208875</td>\n",
       "      <td>6.0</td>\n",
       "    </tr>\n",
       "  </tbody>\n",
       "</table>\n",
       "</div>"
      ],
      "text/plain": [
       "       avg_hisp  avg_inc_above_100k  avg_30-49_pop  clusters_nr\n",
       "0   2414.842774         9023.711188    5816.301720          4.0\n",
       "1  10299.084483        41619.434897   28195.208875          6.0"
      ]
     },
     "execution_count": 24,
     "metadata": {},
     "output_type": "execute_result"
    }
   ],
   "source": [
    "clust_comp=clust_comp.append(demogr_sf_res_avg.groupby('clusters6').mean().iloc[[4],:3].reset_index(drop=True)).reset_index(drop=True)\n",
    "clust_comp['clusters_nr'].iloc[1]=6\n",
    "clust_comp"
   ]
  },
  {
   "cell_type": "code",
   "execution_count": 25,
   "metadata": {
    "execution": {
     "iopub.execute_input": "2021-04-01T09:04:42.060206Z",
     "iopub.status.busy": "2021-04-01T09:04:42.060063Z",
     "iopub.status.idle": "2021-04-01T09:04:42.077227Z",
     "shell.execute_reply": "2021-04-01T09:04:42.076690Z",
     "shell.execute_reply.started": "2021-04-01T09:04:42.060188Z"
    }
   },
   "outputs": [
    {
     "data": {
      "text/html": [
       "<div>\n",
       "<style scoped>\n",
       "    .dataframe tbody tr th:only-of-type {\n",
       "        vertical-align: middle;\n",
       "    }\n",
       "\n",
       "    .dataframe tbody tr th {\n",
       "        vertical-align: top;\n",
       "    }\n",
       "\n",
       "    .dataframe thead th {\n",
       "        text-align: right;\n",
       "    }\n",
       "</style>\n",
       "<table border=\"1\" class=\"dataframe\">\n",
       "  <thead>\n",
       "    <tr style=\"text-align: right;\">\n",
       "      <th></th>\n",
       "      <th>trctid</th>\n",
       "      <th>avg_hisp</th>\n",
       "      <th>avg_inc_above_100k</th>\n",
       "      <th>avg_30-49_pop</th>\n",
       "      <th>clusters</th>\n",
       "      <th>clusters7</th>\n",
       "    </tr>\n",
       "    <tr>\n",
       "      <th>clusters4</th>\n",
       "      <th></th>\n",
       "      <th></th>\n",
       "      <th></th>\n",
       "      <th></th>\n",
       "      <th></th>\n",
       "      <th></th>\n",
       "    </tr>\n",
       "  </thead>\n",
       "  <tbody>\n",
       "    <tr>\n",
       "      <th>0</th>\n",
       "      <td>64</td>\n",
       "      <td>64</td>\n",
       "      <td>64</td>\n",
       "      <td>64</td>\n",
       "      <td>64</td>\n",
       "      <td>64</td>\n",
       "    </tr>\n",
       "    <tr>\n",
       "      <th>1</th>\n",
       "      <td>23</td>\n",
       "      <td>23</td>\n",
       "      <td>23</td>\n",
       "      <td>23</td>\n",
       "      <td>23</td>\n",
       "      <td>23</td>\n",
       "    </tr>\n",
       "    <tr>\n",
       "      <th>2</th>\n",
       "      <td>8</td>\n",
       "      <td>8</td>\n",
       "      <td>8</td>\n",
       "      <td>8</td>\n",
       "      <td>8</td>\n",
       "      <td>8</td>\n",
       "    </tr>\n",
       "    <tr>\n",
       "      <th>3</th>\n",
       "      <td>102</td>\n",
       "      <td>102</td>\n",
       "      <td>102</td>\n",
       "      <td>102</td>\n",
       "      <td>102</td>\n",
       "      <td>102</td>\n",
       "    </tr>\n",
       "  </tbody>\n",
       "</table>\n",
       "</div>"
      ],
      "text/plain": [
       "           trctid  avg_hisp  avg_inc_above_100k  avg_30-49_pop  clusters  \\\n",
       "clusters4                                                                  \n",
       "0              64        64                  64             64        64   \n",
       "1              23        23                  23             23        23   \n",
       "2               8         8                   8              8         8   \n",
       "3             102       102                 102            102       102   \n",
       "\n",
       "           clusters7  \n",
       "clusters4             \n",
       "0                 64  \n",
       "1                 23  \n",
       "2                  8  \n",
       "3                102  "
      ]
     },
     "execution_count": 25,
     "metadata": {},
     "output_type": "execute_result"
    }
   ],
   "source": [
    "demogr_sf_res_avg.groupby('clusters4').count()"
   ]
  },
  {
   "cell_type": "code",
   "execution_count": 26,
   "metadata": {
    "execution": {
     "iopub.execute_input": "2021-04-01T09:04:42.078160Z",
     "iopub.status.busy": "2021-04-01T09:04:42.078009Z",
     "iopub.status.idle": "2021-04-01T09:04:42.092496Z",
     "shell.execute_reply": "2021-04-01T09:04:42.091954Z",
     "shell.execute_reply.started": "2021-04-01T09:04:42.078142Z"
    }
   },
   "outputs": [
    {
     "data": {
      "text/html": [
       "<div>\n",
       "<style scoped>\n",
       "    .dataframe tbody tr th:only-of-type {\n",
       "        vertical-align: middle;\n",
       "    }\n",
       "\n",
       "    .dataframe tbody tr th {\n",
       "        vertical-align: top;\n",
       "    }\n",
       "\n",
       "    .dataframe thead th {\n",
       "        text-align: right;\n",
       "    }\n",
       "</style>\n",
       "<table border=\"1\" class=\"dataframe\">\n",
       "  <thead>\n",
       "    <tr style=\"text-align: right;\">\n",
       "      <th></th>\n",
       "      <th>avg_hisp</th>\n",
       "      <th>avg_inc_above_100k</th>\n",
       "      <th>avg_30-49_pop</th>\n",
       "      <th>clusters_nr</th>\n",
       "    </tr>\n",
       "  </thead>\n",
       "  <tbody>\n",
       "    <tr>\n",
       "      <th>0</th>\n",
       "      <td>2414.842774</td>\n",
       "      <td>9023.711188</td>\n",
       "      <td>5816.301720</td>\n",
       "      <td>4</td>\n",
       "    </tr>\n",
       "    <tr>\n",
       "      <th>1</th>\n",
       "      <td>10299.084483</td>\n",
       "      <td>41619.434897</td>\n",
       "      <td>28195.208875</td>\n",
       "      <td>6</td>\n",
       "    </tr>\n",
       "    <tr>\n",
       "      <th>2</th>\n",
       "      <td>6632.344361</td>\n",
       "      <td>10210.948842</td>\n",
       "      <td>8080.932459</td>\n",
       "      <td>7</td>\n",
       "    </tr>\n",
       "  </tbody>\n",
       "</table>\n",
       "</div>"
      ],
      "text/plain": [
       "       avg_hisp  avg_inc_above_100k  avg_30-49_pop  clusters_nr\n",
       "0   2414.842774         9023.711188    5816.301720            4\n",
       "1  10299.084483        41619.434897   28195.208875            6\n",
       "2   6632.344361        10210.948842    8080.932459            7"
      ]
     },
     "execution_count": 26,
     "metadata": {},
     "output_type": "execute_result"
    }
   ],
   "source": [
    "clust_comp=clust_comp.append(demogr_sf_res_avg.groupby('clusters7').mean().iloc[[3],:3].reset_index(drop=True)).reset_index(drop=True)\n",
    "clust_comp['clusters_nr'].iloc[2]=7\n",
    "clust_comp['clusters_nr']=clust_comp['clusters_nr'].astype('int')\n",
    "clust_comp"
   ]
  },
  {
   "cell_type": "code",
   "execution_count": 27,
   "metadata": {
    "execution": {
     "iopub.execute_input": "2021-04-01T09:04:42.094217Z",
     "iopub.status.busy": "2021-04-01T09:04:42.094061Z",
     "iopub.status.idle": "2021-04-01T09:04:42.243057Z",
     "shell.execute_reply": "2021-04-01T09:04:42.242220Z",
     "shell.execute_reply.started": "2021-04-01T09:04:42.094199Z"
    }
   },
   "outputs": [
    {
     "data": {
      "text/plain": [
       "<AxesSubplot:xlabel='population_demogr'>"
      ]
     },
     "execution_count": 27,
     "metadata": {},
     "output_type": "execute_result"
    },
    {
     "data": {
      "image/png": "[encoded data removed]",
      "text/plain": [
       "<Figure size 576x396 with 1 Axes>"
      ]
     },
     "metadata": {},
     "output_type": "display_data"
    }
   ],
   "source": [
    "clust_comp=clust_comp.transpose()\n",
    "clust_comp.columns=clust_comp.iloc[-1,:]\n",
    "clust_comp.drop(clust_comp.index[-1],inplace=True)\n",
    "clust_comp.index.name='population_demogr'\n",
    "clust_comp.plot(kind='bar')"
   ]
  },
  {
   "cell_type": "markdown",
   "metadata": {},
   "source": [
    "#### In case of clustering in 4 clusters the most prefered cluster has fewer average number of inhabitants per sqaure mile that fulfill our requirements then the best cluster in the 6 and 7 clusters options. Considering the 6 and 7 cluster options have the same average number of inhabitants per square mile that meet our prerequisites we will select the option with 6 clusters.   "
   ]
  },
  {
   "cell_type": "code",
   "execution_count": 28,
   "metadata": {
    "execution": {
     "iopub.execute_input": "2021-04-01T09:04:42.244451Z",
     "iopub.status.busy": "2021-04-01T09:04:42.244271Z",
     "iopub.status.idle": "2021-04-01T09:04:42.247850Z",
     "shell.execute_reply": "2021-04-01T09:04:42.247268Z",
     "shell.execute_reply.started": "2021-04-01T09:04:42.244432Z"
    }
   },
   "outputs": [],
   "source": [
    "#html template code for map legend\n",
    "template = \"\"\"\n",
    "{% macro html(this, kwargs) %}\n",
    "\n",
    "<!doctype html>\n",
    "<html lang=\"en\">\n",
    "<head>\n",
    "  <meta charset=\"utf-8\">\n",
    "  <meta name=\"viewport\" content=\"width=device-width, initial-scale=1\">\n",
    "  <title>jQuery UI Draggable - Default functionality</title>\n",
    "  <link rel=\"stylesheet\" href=\"//code.jquery.com/ui/1.12.1/themes/base/jquery-ui.css\">\n",
    "\n",
    "  <script src=\"https://code.jquery.com/jquery-1.12.4.js\"></script>\n",
    "  <script src=\"https://code.jquery.com/ui/1.12.1/jquery-ui.js\"></script>\n",
    "  \n",
    "  <script>\n",
    "  $( function() {\n",
    "    $( \"#maplegend\" ).draggable({\n",
    "                    start: function (event, ui) {\n",
    "                        $(this).css({\n",
    "                            right: \"auto\",\n",
    "                            top: \"auto\",\n",
    "                            bottom: \"auto\"\n",
    "                        });\n",
    "                    }\n",
    "                });\n",
    "});\n",
    "\n",
    "  </script>\n",
    "</head>\n",
    "<body>\n",
    "\n",
    " \n",
    "<div id='maplegend' class='maplegend' \n",
    "    style='position: absolute; z-index:9999; border:2px solid grey; background-color:rgba(255, 255, 255, 0.8);\n",
    "     border-radius:6px; padding: 10px; font-size:14px; right: 20px; bottom: 20px;'>\n",
    "     \n",
    "<div class='legend-title'>Legend (draggable!)</div>\n",
    "<div class='legend-scale'>\n",
    "  <ul class='legend-labels'>\n",
    "    <li><span style='background:red;opacity:0.7;'></span>Big</li>\n",
    "    <li><span style='background:orange;opacity:0.7;'></span>Medium</li>\n",
    "    <li><span style='background:green;opacity:0.7;'></span>Small</li>\n",
    "\n",
    "  </ul>\n",
    "</div>\n",
    "</div>\n",
    " \n",
    "</body>\n",
    "</html>\n",
    "\n",
    "<style type='text/css'>\n",
    "  .maplegend .legend-title {\n",
    "    text-align: left;\n",
    "    margin-bottom: 5px;\n",
    "    font-weight: bold;\n",
    "    font-size: 90%;\n",
    "    }\n",
    "  .maplegend .legend-scale ul {\n",
    "    margin: 0;\n",
    "    margin-bottom: 5px;\n",
    "    padding: 0;\n",
    "    float: left;\n",
    "    list-style: none;\n",
    "    }\n",
    "  .maplegend .legend-scale ul li {\n",
    "    font-size: 80%;\n",
    "    list-style: none;\n",
    "    margin-left: 0;\n",
    "    line-height: 18px;\n",
    "    margin-bottom: 2px;\n",
    "    }\n",
    "  .maplegend ul.legend-labels li span {\n",
    "    display: block;\n",
    "    float: left;\n",
    "    height: 16px;\n",
    "    width: 30px;\n",
    "    margin-right: 5px;\n",
    "    margin-left: 0;\n",
    "    border: 1px solid #999;\n",
    "    }\n",
    "  .maplegend .legend-source {\n",
    "    font-size: 80%;\n",
    "    color: #777;\n",
    "    clear: both;\n",
    "    }\n",
    "  .maplegend a {\n",
    "    color: #777;\n",
    "    }\n",
    "</style>\n",
    "{% endmacro %}\"\"\""
   ]
  },
  {
   "cell_type": "code",
   "execution_count": 30,
   "metadata": {
    "execution": {
     "iopub.execute_input": "2021-04-01T09:07:48.460483Z",
     "iopub.status.busy": "2021-04-01T09:07:48.460211Z",
     "iopub.status.idle": "2021-04-01T09:07:48.481541Z",
     "shell.execute_reply": "2021-04-01T09:07:48.479965Z",
     "shell.execute_reply.started": "2021-04-01T09:07:48.460453Z"
    }
   },
   "outputs": [
    {
     "ename": "ValueError",
     "evalue": "Cannot render objects with any missing geometries: <folium.folium.Map object at 0x7f12f2539a60>",
     "output_type": "error",
     "traceback": [
      "\u001b[0;31m---------------------------------------------------------------------------\u001b[0m",
      "\u001b[0;31mValueError\u001b[0m                                Traceback (most recent call last)",
      "\u001b[0;32m<ipython-input-30-6ee7fa6050b8>\u001b[0m in \u001b[0;36m<module>\u001b[0;34m\u001b[0m\n\u001b[1;32m      9\u001b[0m )\n\u001b[1;32m     10\u001b[0m \u001b[0msanmap\u001b[0m\u001b[0;34m=\u001b[0m\u001b[0mfolium\u001b[0m\u001b[0;34m.\u001b[0m\u001b[0mMap\u001b[0m\u001b[0;34m(\u001b[0m\u001b[0mzoom_start\u001b[0m\u001b[0;34m=\u001b[0m\u001b[0;36m13\u001b[0m\u001b[0;34m,\u001b[0m\u001b[0mlocation\u001b[0m\u001b[0;34m=\u001b[0m\u001b[0;34m[\u001b[0m\u001b[0;36m37.77\u001b[0m\u001b[0;34m,\u001b[0m\u001b[0;34m-\u001b[0m\u001b[0;36m122.42\u001b[0m\u001b[0;34m]\u001b[0m\u001b[0;34m)\u001b[0m\u001b[0;34m\u001b[0m\u001b[0;34m\u001b[0m\u001b[0m\n\u001b[0;32m---> 11\u001b[0;31m folium.GeoJson(sanmap,style_function=lambda feature: {\n\u001b[0m\u001b[1;32m     12\u001b[0m     \u001b[0;34m'fillColor'\u001b[0m\u001b[0;34m:\u001b[0m\u001b[0mstep\u001b[0m\u001b[0;34m(\u001b[0m\u001b[0mclusters\u001b[0m\u001b[0;34m[\u001b[0m\u001b[0mfeature\u001b[0m\u001b[0;34m[\u001b[0m\u001b[0;34m'properties'\u001b[0m\u001b[0;34m]\u001b[0m\u001b[0;34m[\u001b[0m\u001b[0;34m'trctid'\u001b[0m\u001b[0;34m]\u001b[0m\u001b[0;34m]\u001b[0m\u001b[0;34m)\u001b[0m\u001b[0;34m,\u001b[0m\u001b[0;34m\u001b[0m\u001b[0;34m\u001b[0m\u001b[0m\n\u001b[1;32m     13\u001b[0m     \u001b[0;34m'fillOpacity'\u001b[0m\u001b[0;34m:\u001b[0m\u001b[0;36m0.5\u001b[0m\u001b[0;34m,\u001b[0m\u001b[0;34m\u001b[0m\u001b[0;34m\u001b[0m\u001b[0m\n",
      "\u001b[0;32m~/miniconda3/envs/cap/lib/python3.9/site-packages/folium/features.py\u001b[0m in \u001b[0;36m__init__\u001b[0;34m(self, data, style_function, highlight_function, name, overlay, control, show, smooth_factor, tooltip, embed, popup, zoom_on_click, marker)\u001b[0m\n\u001b[1;32m    497\u001b[0m         \u001b[0mself\u001b[0m\u001b[0;34m.\u001b[0m\u001b[0mmarker\u001b[0m \u001b[0;34m=\u001b[0m \u001b[0mmarker\u001b[0m\u001b[0;34m\u001b[0m\u001b[0;34m\u001b[0m\u001b[0m\n\u001b[1;32m    498\u001b[0m \u001b[0;34m\u001b[0m\u001b[0m\n\u001b[0;32m--> 499\u001b[0;31m         \u001b[0mself\u001b[0m\u001b[0;34m.\u001b[0m\u001b[0mdata\u001b[0m \u001b[0;34m=\u001b[0m \u001b[0mself\u001b[0m\u001b[0;34m.\u001b[0m\u001b[0mprocess_data\u001b[0m\u001b[0;34m(\u001b[0m\u001b[0mdata\u001b[0m\u001b[0;34m)\u001b[0m\u001b[0;34m\u001b[0m\u001b[0;34m\u001b[0m\u001b[0m\n\u001b[0m\u001b[1;32m    500\u001b[0m \u001b[0;34m\u001b[0m\u001b[0m\n\u001b[1;32m    501\u001b[0m         \u001b[0;32mif\u001b[0m \u001b[0mself\u001b[0m\u001b[0;34m.\u001b[0m\u001b[0mstyle\u001b[0m \u001b[0;32mor\u001b[0m \u001b[0mself\u001b[0m\u001b[0;34m.\u001b[0m\u001b[0mhighlight\u001b[0m\u001b[0;34m:\u001b[0m\u001b[0;34m\u001b[0m\u001b[0;34m\u001b[0m\u001b[0m\n",
      "\u001b[0;32m~/miniconda3/envs/cap/lib/python3.9/site-packages/folium/features.py\u001b[0m in \u001b[0;36mprocess_data\u001b[0;34m(self, data)\u001b[0m\n\u001b[1;32m    542\u001b[0m             \u001b[0;32mreturn\u001b[0m \u001b[0mjson\u001b[0m\u001b[0;34m.\u001b[0m\u001b[0mloads\u001b[0m\u001b[0;34m(\u001b[0m\u001b[0mjson\u001b[0m\u001b[0;34m.\u001b[0m\u001b[0mdumps\u001b[0m\u001b[0;34m(\u001b[0m\u001b[0mdata\u001b[0m\u001b[0;34m.\u001b[0m\u001b[0m__geo_interface__\u001b[0m\u001b[0;34m)\u001b[0m\u001b[0;34m)\u001b[0m\u001b[0;34m\u001b[0m\u001b[0;34m\u001b[0m\u001b[0m\n\u001b[1;32m    543\u001b[0m         \u001b[0;32melse\u001b[0m\u001b[0;34m:\u001b[0m\u001b[0;34m\u001b[0m\u001b[0;34m\u001b[0m\u001b[0m\n\u001b[0;32m--> 544\u001b[0;31m             raise ValueError('Cannot render objects with any missing geometries'\n\u001b[0m\u001b[1;32m    545\u001b[0m                              ': {!r}'.format(data))\n\u001b[1;32m    546\u001b[0m \u001b[0;34m\u001b[0m\u001b[0m\n",
      "\u001b[0;31mValueError\u001b[0m: Cannot render objects with any missing geometries: <folium.folium.Map object at 0x7f12f2539a60>"
     ]
    }
   ],
   "source": [
    "import folium\n",
    "import branca.colormap as cmp\n",
    "clusters=demogr_sf_res_avg.set_index('trctid')['clusters']\n",
    "step = cmp.StepColormap(\n",
    " ['purple','red','yellow','blue','green','cyan'],\n",
    " vmin=0, vmax=6,\n",
    " index=[0,1, 2, 3, 4 ,5,6],  #for change in the colors, not used fr linear\n",
    " caption='Clusters'    #Caption for Color scale or Legend\n",
    ")\n",
    "sanmap=folium.Map(zoom_start=13,location=[37.77,-122.42])\n",
    "folium.GeoJson(sanmap,style_function=lambda feature: {\n",
    "    'fillColor':step(clusters[feature['properties']['trctid']]),\n",
    "    'fillOpacity':0.5,\n",
    "    'color':'black', #border color for the color fills\n",
    "    'weight':1, #how thick the border has to be\n",
    "    'dashArray': '5,3' #dashed lines length,space between them\n",
    "}).add_to(sanmap)\n",
    "\n",
    "step.add_to(sanmap) \n",
    "from branca.element import Template, MacroElement\n",
    "\n",
    "macro = MacroElement()\n",
    "macro._template = Template(template)\n",
    "\n",
    "sanmap.get_root().add_child(macro)\n",
    "sanmap"
   ]
  },
  {
   "cell_type": "code",
   "execution_count": null,
   "metadata": {
    "execution": {
     "iopub.status.busy": "2021-04-01T09:07:48.482262Z",
     "iopub.status.idle": "2021-04-01T09:07:48.482567Z",
     "shell.execute_reply": "2021-04-01T09:07:48.482438Z"
    }
   },
   "outputs": [],
   "source": [
    "scaled_df=pd.DataFrame(scaled_td,columns=['avg_hisp','avg_inc_above_100k','avg_30-40_pop'])\n",
    "scaled_df['tractid']=demogr_sf_res_avg['trctid']\n",
    "scaled_df"
   ]
  },
  {
   "cell_type": "code",
   "execution_count": null,
   "metadata": {
    "execution": {
     "iopub.status.busy": "2021-04-01T09:07:48.483420Z",
     "iopub.status.idle": "2021-04-01T09:07:48.483720Z",
     "shell.execute_reply": "2021-04-01T09:07:48.483550Z"
    }
   },
   "outputs": [],
   "source": [
    "scaled_df['suitability']=scaled_df['avg_inc_above_100k']*0.45+scaled_df['avg_hisp']*0.35+scaled_df['avg_30-40_pop']*0.2\n",
    "scaled_df['tractid']=demogr_sf_res_avg['trctid']\n",
    "scaled_df['clusters']=demogr_sf_res_avg['clusters']\n",
    "scaled_df"
   ]
  },
  {
   "cell_type": "code",
   "execution_count": null,
   "metadata": {
    "execution": {
     "iopub.status.busy": "2021-04-01T09:07:48.484605Z",
     "iopub.status.idle": "2021-04-01T09:07:48.484973Z",
     "shell.execute_reply": "2021-04-01T09:07:48.484848Z"
    }
   },
   "outputs": [],
   "source": [
    "pd.set_option('display.max_rows', 20)\n",
    "scaled_df.sort_values(by='suitability',ascending=False).head(20)"
   ]
  },
  {
   "cell_type": "code",
   "execution_count": null,
   "metadata": {
    "execution": {
     "iopub.status.busy": "2021-04-01T09:07:48.485806Z",
     "iopub.status.idle": "2021-04-01T09:07:48.486103Z",
     "shell.execute_reply": "2021-04-01T09:07:48.485964Z"
    }
   },
   "outputs": [],
   "source": [
    "scaled_df.groupby('clusters').mean()"
   ]
  },
  {
   "cell_type": "code",
   "execution_count": null,
   "metadata": {
    "execution": {
     "iopub.status.busy": "2021-04-01T09:07:48.486830Z",
     "iopub.status.idle": "2021-04-01T09:07:48.487042Z",
     "shell.execute_reply": "2021-04-01T09:07:48.486938Z"
    }
   },
   "outputs": [],
   "source": [
    "scaled_df.describe()"
   ]
  },
  {
   "cell_type": "code",
   "execution_count": null,
   "metadata": {
    "execution": {
     "iopub.status.busy": "2021-04-01T09:07:48.487757Z",
     "iopub.status.idle": "2021-04-01T09:07:48.487959Z",
     "shell.execute_reply": "2021-04-01T09:07:48.487860Z"
    }
   },
   "outputs": [],
   "source": [
    "scaled_df"
   ]
  },
  {
   "cell_type": "code",
   "execution_count": null,
   "metadata": {
    "execution": {
     "iopub.status.busy": "2021-04-01T09:07:48.488756Z",
     "iopub.status.idle": "2021-04-01T09:07:48.489041Z",
     "shell.execute_reply": "2021-04-01T09:07:48.488890Z"
    }
   },
   "outputs": [],
   "source": [
    "import folium\n",
    "\n",
    "sanmap=folium.Map(zoom_start=13,location=[37.77,-122.42])\n",
    "sanmap.choropleth(geo_data=geosan,data=scaled_df,columns=['tractid','suitability'],\n",
    "                  key_on='feature.properties.trctid',fill_color='YlOrRd',legend_name=\"Suitability\",fill_opacity=0.7,line_opacity=0.2)\n",
    "\n",
    "sanmap"
   ]
  },
  {
   "cell_type": "code",
   "execution_count": null,
   "metadata": {
    "execution": {
     "iopub.status.busy": "2021-04-01T09:07:48.489738Z",
     "iopub.status.idle": "2021-04-01T09:07:48.489980Z",
     "shell.execute_reply": "2021-04-01T09:07:48.489856Z"
    }
   },
   "outputs": [],
   "source": [
    "scaled_df_5_3=scaled_df[(scaled_df['clusters']==3) |  (scaled_df['clusters']==5) ]\n",
    "scaled_df_5_3"
   ]
  },
  {
   "cell_type": "code",
   "execution_count": null,
   "metadata": {
    "execution": {
     "iopub.status.busy": "2021-04-01T09:07:48.491075Z",
     "iopub.status.idle": "2021-04-01T09:07:48.491388Z",
     "shell.execute_reply": "2021-04-01T09:07:48.491253Z"
    }
   },
   "outputs": [],
   "source": [
    "scaled_df_5=scaled_df[(scaled_df['clusters']==5) ]\n",
    "scaled_df_5"
   ]
  },
  {
   "cell_type": "code",
   "execution_count": null,
   "metadata": {
    "execution": {
     "iopub.status.busy": "2021-04-01T09:07:48.492038Z",
     "iopub.status.idle": "2021-04-01T09:07:48.492267Z",
     "shell.execute_reply": "2021-04-01T09:07:48.492151Z"
    }
   },
   "outputs": [],
   "source": [
    "import folium\n",
    "\n",
    "sanmap=folium.Map(zoom_start=13,location=[37.77,-122.42])\n",
    "sanmap.choropleth(geo_data=geosan,data=scaled_df_5_3,columns=['tractid','suitability'],\n",
    "                  key_on='feature.properties.trctid',fill_color='YlOrRd',legend_name=\"Suitability\",fill_opacity=0.7,line_opacity=0.2)\n",
    "\n",
    "sanmap"
   ]
  },
  {
   "cell_type": "code",
   "execution_count": null,
   "metadata": {
    "execution": {
     "iopub.status.busy": "2021-04-01T09:07:48.492814Z",
     "iopub.status.idle": "2021-04-01T09:07:48.493074Z",
     "shell.execute_reply": "2021-04-01T09:07:48.492938Z"
    }
   },
   "outputs": [],
   "source": [
    "cluster_5_dem=demogr_sf_res_avg[demogr_sf_res_avg['clusters']==5]\n",
    "cluster_5_dem"
   ]
  },
  {
   "cell_type": "code",
   "execution_count": null,
   "metadata": {
    "execution": {
     "iopub.status.busy": "2021-04-01T09:07:48.493827Z",
     "iopub.status.idle": "2021-04-01T09:07:48.494055Z",
     "shell.execute_reply": "2021-04-01T09:07:48.493951Z"
    }
   },
   "outputs": [],
   "source": [
    "sf_tracts.rename(columns={'GEOID':'trctid'},inplace=True)\n",
    "sf_tracts"
   ]
  },
  {
   "cell_type": "code",
   "execution_count": null,
   "metadata": {
    "execution": {
     "iopub.status.busy": "2021-04-01T09:07:48.494679Z",
     "iopub.status.idle": "2021-04-01T09:07:48.494918Z",
     "shell.execute_reply": "2021-04-01T09:07:48.494803Z"
    }
   },
   "outputs": [],
   "source": [
    "cluster_5_dem=pd.merge(cluster_5_dem,sf_tracts,how='left',on='trctid')\n",
    "cluster_5_dem"
   ]
  },
  {
   "cell_type": "code",
   "execution_count": null,
   "metadata": {
    "execution": {
     "iopub.status.busy": "2021-04-01T09:07:48.495589Z",
     "iopub.status.idle": "2021-04-01T09:07:48.495991Z",
     "shell.execute_reply": "2021-04-01T09:07:48.495796Z"
    }
   },
   "outputs": [],
   "source": [
    "cluster_5_dem.describe()"
   ]
  },
  {
   "cell_type": "code",
   "execution_count": null,
   "metadata": {
    "execution": {
     "iopub.status.busy": "2021-04-01T09:07:48.496793Z",
     "iopub.status.idle": "2021-04-01T09:07:48.497053Z",
     "shell.execute_reply": "2021-04-01T09:07:48.496932Z"
    }
   },
   "outputs": [],
   "source": [
    "np.sqrt(92748)"
   ]
  },
  {
   "cell_type": "code",
   "execution_count": null,
   "metadata": {
    "execution": {
     "iopub.status.busy": "2021-04-01T09:07:48.497711Z",
     "iopub.status.idle": "2021-04-01T09:07:48.498014Z",
     "shell.execute_reply": "2021-04-01T09:07:48.497837Z"
    }
   },
   "outputs": [],
   "source": [
    "CLIENT_ID = 'NPXXRWCGISTUUNNXTE3AUJZYCM2XIG35323D53ZV5KKYF1WN' # your Foursquare ID\n",
    "CLIENT_SECRET = 'PSPDQ53USDBYGO3RPU3AQFOOAPR3AV1ZEZD5V0AYKWQIFY1X' # your Foursquare Secret\n",
    "ACCESS_TOKEN = 'CHNHAAHNI14LXTLD3TMYWX0CIXT0R1VCVY35S02HUFKCNBXW' # your FourSquare Access Token\n",
    "VERSION = '20180604'\n",
    "LIMIT = 100"
   ]
  },
  {
   "cell_type": "code",
   "execution_count": null,
   "metadata": {
    "execution": {
     "iopub.status.busy": "2021-04-01T09:07:48.498651Z",
     "iopub.status.idle": "2021-04-01T09:07:48.498925Z",
     "shell.execute_reply": "2021-04-01T09:07:48.498772Z"
    }
   },
   "outputs": [],
   "source": [
    "def getNearbyVenues(names,categories, latitudes, longitudes, radius=700):\n",
    "    \n",
    "    venues_list=[]\n",
    "    for name, lat, lng in zip(names, latitudes, longitudes):\n",
    "        print(name)\n",
    "            \n",
    "        # create the API request URL\n",
    "        url = 'https://api.foursquare.com/v2/venues/explore?&client_id={}&client_secret={}&v={}&ll={},{}&categoryId={}&radius={}&limit={}'.format(\n",
    "                       CLIENT_ID, \n",
    "            CLIENT_SECRET, \n",
    "            VERSION, \n",
    "            lat, \n",
    "            lng, \n",
    "            categories,\n",
    "            radius, \n",
    "            LIMIT)\n",
    "            \n",
    "        # make the GET request\n",
    "        results = requests.get(url).json()[\"response\"][\"groups\"][0][\"items\"]\n",
    "        \n",
    "        # return only relevant information for each nearby venue\n",
    "        venues_list.append([(\n",
    "            name, \n",
    "            lat, \n",
    "            lng, \n",
    "            v['venue']['id'], \n",
    "            v['venue']['name'], \n",
    "            v['venue']['location']['lat'], \n",
    "            v['venue']['location']['lng'],  \n",
    "            v['venue']['categories'][0]['name'],\n",
    "            v['venue']['categories'][0]['id'],\n",
    "        ) for v in results])\n",
    "\n",
    "    nearby_venues = pd.DataFrame([item for venue_list in venues_list for item in venue_list],columns = [\n",
    "                  'trctid', \n",
    "                  'Tract Latitude', \n",
    "                  'Tract Longitude',\n",
    "                  'Venue Id',\n",
    "                  'Venue', \n",
    "                  'Venue Latitude', \n",
    "                  'Venue Longitude', \n",
    "                  'Venue Category',\n",
    "                  'Venue Category ID'\n",
    "    ])\n",
    "       \n",
    "    return(nearby_venues)"
   ]
  },
  {
   "cell_type": "code",
   "execution_count": null,
   "metadata": {
    "execution": {
     "iopub.status.busy": "2021-04-01T09:07:48.499545Z",
     "iopub.status.idle": "2021-04-01T09:07:48.499785Z",
     "shell.execute_reply": "2021-04-01T09:07:48.499672Z"
    }
   },
   "outputs": [],
   "source": [
    "import requests\n",
    "names= cluster_5_dem.loc[:,'trctid']\n",
    "longitudes= cluster_5_dem['Lon']\n",
    "latitudes= cluster_5_dem['Lat']\n",
    "\n",
    "food_cat='4d4b7105d754a06374d81259' #Foursquare Foof category\n",
    "\n",
    "cl5_venues= getNearbyVenues(names,food_cat,latitudes, longitudes)\n",
    "cl5_venues"
   ]
  },
  {
   "cell_type": "code",
   "execution_count": null,
   "metadata": {
    "execution": {
     "iopub.status.busy": "2021-04-01T09:07:48.500338Z",
     "iopub.status.idle": "2021-04-01T09:07:48.500556Z",
     "shell.execute_reply": "2021-04-01T09:07:48.500444Z"
    }
   },
   "outputs": [],
   "source": [
    "#cl5_venues.rename(columns={'Neighborhood':'trctid'},inplace=True)\n",
    "cl5_venues"
   ]
  },
  {
   "cell_type": "code",
   "execution_count": null,
   "metadata": {
    "execution": {
     "iopub.status.busy": "2021-04-01T09:07:48.501105Z",
     "iopub.status.idle": "2021-04-01T09:07:48.501320Z",
     "shell.execute_reply": "2021-04-01T09:07:48.501217Z"
    }
   },
   "outputs": [],
   "source": [
    "cl5_venues.drop_duplicates(subset='Venue Id',ignore_index=True,inplace=True)\n",
    "cl5_venues"
   ]
  },
  {
   "cell_type": "code",
   "execution_count": null,
   "metadata": {
    "execution": {
     "iopub.status.busy": "2021-04-01T09:07:48.501822Z",
     "iopub.status.idle": "2021-04-01T09:07:48.502036Z",
     "shell.execute_reply": "2021-04-01T09:07:48.501926Z"
    }
   },
   "outputs": [],
   "source": [
    "cl5_venues['Venue Category'].unique()"
   ]
  },
  {
   "cell_type": "code",
   "execution_count": null,
   "metadata": {
    "execution": {
     "iopub.status.busy": "2021-04-01T09:07:48.503612Z",
     "iopub.status.idle": "2021-04-01T09:07:48.503848Z",
     "shell.execute_reply": "2021-04-01T09:07:48.503741Z"
    }
   },
   "outputs": [],
   "source": [
    "other_food_cat=['Sandwich Place','Café','Breakfast Spot','Bakery','Donut Shop','Irish Pub','Wagashi Place', 'Bagel Shop', 'Food Truck','Fast Food Restaurant']\n",
    "cl5_res=cl5_venues.drop(index=cl5_venues[cl5_venues['Venue Category'].isin(other_food_cat)].index)\n",
    "cl5_res"
   ]
  },
  {
   "cell_type": "code",
   "execution_count": null,
   "metadata": {
    "execution": {
     "iopub.status.busy": "2021-04-01T09:07:48.504511Z",
     "iopub.status.idle": "2021-04-01T09:07:48.504731Z",
     "shell.execute_reply": "2021-04-01T09:07:48.504626Z"
    }
   },
   "outputs": [],
   "source": [
    "\n",
    "mex_categories=['4bf58dd8d48988d1c1941735','58daa1558bbb0b01f18ec1d9',\n",
    "            '4bf58dd8d48988d153941735','4bf58dd8d48988d151941735',\n",
    "            '56aa371ae4b08b9a8d5734ba','5744ccdfe4b0c0459246b4d3'\n",
    "             ] #Foursquare Mexican Restaurants categories\n",
    "mex_venues=cl5_venues[cl5_venues['Venue Category ID'].isin(mex_categories)].reset_index()\n",
    "mex_venues"
   ]
  },
  {
   "cell_type": "code",
   "execution_count": null,
   "metadata": {
    "execution": {
     "iopub.status.busy": "2021-04-01T09:07:48.505260Z",
     "iopub.status.idle": "2021-04-01T09:07:48.505465Z",
     "shell.execute_reply": "2021-04-01T09:07:48.505364Z"
    }
   },
   "outputs": [],
   "source": [
    "import geopandas\n",
    "geometry=geopandas.points_from_xy(cl5_res['Venue Longitude'],cl5_res['Venue Latitude'])\n",
    "cl5_res=geopandas.GeoDataFrame(cl5_res,geometry=geometry)\n",
    "cl5_res"
   ]
  },
  {
   "cell_type": "code",
   "execution_count": null,
   "metadata": {
    "execution": {
     "iopub.status.busy": "2021-04-01T09:07:48.506063Z",
     "iopub.status.idle": "2021-04-01T09:07:48.506280Z",
     "shell.execute_reply": "2021-04-01T09:07:48.506177Z"
    }
   },
   "outputs": [],
   "source": [
    "def add_color(venue):\n",
    "    if venue=='Mexican Restaurant':\n",
    "        color='red'\n",
    "    elif venue=='Taco Place':\n",
    "        color='purple'\n",
    "    elif venue=='Burrito Place':\n",
    "        color='orange'\n",
    "    else:\n",
    "        color='blue'\n",
    "    return color\n",
    "cl5_res['color']=cl5_res.apply(lambda x: add_color(x[\"Venue Category\"]),axis=1)\n",
    "cl5_res\n",
    "                                                 \n",
    "    \n"
   ]
  },
  {
   "cell_type": "code",
   "execution_count": null,
   "metadata": {
    "execution": {
     "iopub.status.busy": "2021-04-01T09:07:48.506814Z",
     "iopub.status.idle": "2021-04-01T09:07:48.507048Z",
     "shell.execute_reply": "2021-04-01T09:07:48.506935Z"
    }
   },
   "outputs": [],
   "source": [
    "import folium\n",
    "\n",
    "sanmap=folium.Map(zoom_start=15.5,location=[37.78646,-122.414462])\n",
    "folium.Choropleth(geo_data=geosan[geosan['clusters']==5],data=scaled_df_5_3,columns=['tractid','suitability'],\n",
    "                  key_on='feature.properties.trctid',fill_color='YlOrRd',legend_name=\"Suitability\",fill_opacity=0.6,line_opacity=0.2).add_to(sanmap)\n",
    "for i in range(0,len(cl5_res)):\n",
    "    folium.Marker(location=[cl5_res.iloc[i]['Venue Latitude'],cl5_res.iloc[i]['Venue Longitude']],\n",
    "                  popup=cl5_res.iloc[i]['Venue Category']+ '<br>' +cl5_res.iloc[i]['Venue'],icon = folium.Icon(color = \"%s\" % cl5_res.iloc[i]['color'])).add_to(sanmap)\n",
    "    \n",
    "#sanmap.GeoJson(cl5_res,name='CLuster 5 restaurants',tooltip=folium.GeoJsonTooltip(fields=['Venue Category','Venue']))\n",
    "sanmap"
   ]
  },
  {
   "cell_type": "code",
   "execution_count": null,
   "metadata": {
    "execution": {
     "iopub.status.busy": "2021-04-01T09:07:48.507565Z",
     "iopub.status.idle": "2021-04-01T09:07:48.507788Z",
     "shell.execute_reply": "2021-04-01T09:07:48.507678Z"
    }
   },
   "outputs": [],
   "source": [
    "#cl5_res.to_feather(\"cl5_res.fea\")"
   ]
  },
  {
   "cell_type": "code",
   "execution_count": null,
   "metadata": {
    "execution": {
     "iopub.status.busy": "2021-04-01T09:07:48.508292Z",
     "iopub.status.idle": "2021-04-01T09:07:48.508495Z",
     "shell.execute_reply": "2021-04-01T09:07:48.508396Z"
    }
   },
   "outputs": [],
   "source": [
    "cl"
   ]
  }
 ],
 "metadata": {
  "kernelspec": {
   "display_name": "Python [conda env:cap]",
   "language": "python",
   "name": "conda-env-cap-py"
  },
  "language_info": {
   "codemirror_mode": {
    "name": "ipython",
    "version": 3
   },
   "file_extension": ".py",
   "mimetype": "text/x-python",
   "name": "python",
   "nbconvert_exporter": "python",
   "pygments_lexer": "ipython3",
   "version": "3.9.2"
  }
 },
 "nbformat": 4,
 "nbformat_minor": 4
}
